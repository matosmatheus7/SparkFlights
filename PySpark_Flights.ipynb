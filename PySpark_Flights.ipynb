{
  "nbformat": 4,
  "nbformat_minor": 0,
  "metadata": {
    "colab": {
      "provenance": []
    },
    "kernelspec": {
      "name": "python3",
      "display_name": "Python 3"
    },
    "language_info": {
      "name": "python"
    }
  },
  "cells": [
    {
      "cell_type": "markdown",
      "source": [
        "# **Installing PySpark on Google Colab**\n",
        "\n",
        "Installing PySpark is not a straightforward process as usual in Python. Simply using a \"pip install\" is not enough. In fact, before anything else, it is necessary to install dependencies such as Java 8, Apache Spark 2.3.2, and Hadoop 2.7."
      ],
      "metadata": {
        "id": "mJwcklWBWUB_"
      }
    },
    {
      "cell_type": "code",
      "execution_count": null,
      "metadata": {
        "id": "qCD-FxoOWM3G"
      },
      "outputs": [],
      "source": [
        "#Install JDK\n",
        "!apt-get install openjdk-8-jdk-headless -qq > /dev/null"
      ]
    },
    {
      "cell_type": "code",
      "source": [
        "# Donwload Spark\n",
        "!wget -q https://archive.apache.org/dist/spark/spark-3.1.2/spark-3.1.2-bin-hadoop2.7.tgz"
      ],
      "metadata": {
        "id": "JX0hyXy83MRu"
      },
      "execution_count": null,
      "outputs": []
    },
    {
      "cell_type": "code",
      "source": [
        "# Unzip spark folder\n",
        "!tar xf /content/spark-3.1.2-bin-hadoop2.7.tgz"
      ],
      "metadata": {
        "id": "U9WZvuiv3RQP"
      },
      "execution_count": null,
      "outputs": []
    },
    {
      "cell_type": "code",
      "source": [
        "# Install findspark lib\n",
        "!pip install -q findspark"
      ],
      "metadata": {
        "id": "IIK--NIK3a9C"
      },
      "execution_count": null,
      "outputs": []
    },
    {
      "cell_type": "markdown",
      "source": [
        "The next step is to configure the environment variables, as this enables the Colab environment to correctly identify where the dependencies are running.\n",
        "\n",
        "To effectively interact with and manipulate the terminal, you can utilize the os library."
      ],
      "metadata": {
        "id": "BONbuFvjWrHJ"
      }
    },
    {
      "cell_type": "code",
      "source": [
        "# Create env variables\n",
        "import os\n",
        "os.environ[\"JAVA_HOME\"] = \"/usr/lib/jvm/java-8-openjdk-amd64\"\n",
        "os.environ[\"SPARK_HOME\"] = \"/content/spark-3.1.2-bin-hadoop2.7\""
      ],
      "metadata": {
        "id": "aVlIl6-lWrbI"
      },
      "execution_count": null,
      "outputs": []
    },
    {
      "cell_type": "code",
      "source": [
        "# Import findspark, that helps find the Spark on the system and import as a regular lib\n",
        "import findspark\n",
        "findspark.init()"
      ],
      "metadata": {
        "id": "EJHHeLIEAPBF"
      },
      "execution_count": null,
      "outputs": []
    },
    {
      "cell_type": "markdown",
      "source": [
        "With everything set up, let's run a local session to test if the installation was successful.\n",
        "\n"
      ],
      "metadata": {
        "id": "ntfZw6YdWuO6"
      }
    },
    {
      "cell_type": "markdown",
      "source": [
        "##**Using Spark with Python**\n",
        "The initial step in utilizing Spark is to establish a connection with a cluster.\n",
        "\n",
        "In practice, the cluster will be hosted on a remote machine that is connected to all other nodes. There will be a master computer responsible for dividing the data and computations. The master is connected to the remaining computers in the cluster, known as workers. The master sends data and computations to the workers for execution, and they return the results back to the master.\n",
        "##**Creating a SparkSession**\n",
        "Creating multiple `SparkSessions` and `SparkContext` can lead to problems, so it is recommended to use the `SparkSession.builder.getOrCreate()` method. This method returns an existing SparkSession if one is already present in the environment or creates a new one if necessary!"
      ],
      "metadata": {
        "id": "uY6fJ-RIW2dO"
      }
    },
    {
      "cell_type": "code",
      "source": [
        "# Create SparkSession\n",
        "from pyspark.sql import SparkSession\n",
        "spark = SparkSession.builder\\\n",
        "        .master('local')\\\n",
        "        .appName('sparkFlights')\\\n",
        "        .getOrCreate()"
      ],
      "metadata": {
        "id": "YYxwg7OrWttn"
      },
      "execution_count": null,
      "outputs": []
    },
    {
      "cell_type": "code",
      "source": [
        "# Verify SparkContext\n",
        "print(spark)"
      ],
      "metadata": {
        "colab": {
          "base_uri": "https://localhost:8080/"
        },
        "id": "uy9VKDPgFQfm",
        "outputId": "d700d562-5a2c-4ece-c826-80649afa02a3"
      },
      "execution_count": null,
      "outputs": [
        {
          "output_type": "stream",
          "name": "stdout",
          "text": [
            "<pyspark.sql.session.SparkSession object at 0x7f88c82dce80>\n"
          ]
        }
      ]
    },
    {
      "cell_type": "code",
      "source": [
        "# Print Spark version\n",
        "print(spark.version)"
      ],
      "metadata": {
        "colab": {
          "base_uri": "https://localhost:8080/"
        },
        "id": "9Qr7XMsXFbM9",
        "outputId": "359a5da1-65b3-4463-f74d-eaabaa4c4217"
      },
      "execution_count": null,
      "outputs": [
        {
          "output_type": "stream",
          "name": "stdout",
          "text": [
            "3.1.2\n"
          ]
        }
      ]
    },
    {
      "cell_type": "markdown",
      "source": [
        "## **Using DataFrames**\n",
        "\n",
        "To get started with Spark DataFrames, you first need to create a `SparkSession` object from your `SparkContext`. You can consider the `SparkContext` as your connection to the cluster and the `SparkSession` as your interface with that connection.\n",
        "\n",
        "## **Importing Tables & Making Queries**\n",
        "\n",
        "One of the advantages of the DataFrame interface is the ability to run SQL queries on tables in your Spark cluster.\n",
        "\n",
        "We will import the `flights` table. This table contains a row for each flight that departed from either Portland International Airport (PDX) or Seattle-Tacoma International Airport (SEA) in 2014 and 2015.\n"
      ],
      "metadata": {
        "id": "JIuMnb9AEVOC"
      }
    },
    {
      "cell_type": "code",
      "source": [
        "arquivo = \"/data/flights_small.csv\"\n",
        "flights = spark\\\n",
        "        .read.format(\"csv\")\\\n",
        "        .option(\"inferSchema\", \"True\")\\\n",
        "        .option(\"header\", \"True\")\\\n",
        "        .csv(arquivo)"
      ],
      "metadata": {
        "id": "4JAA75sqfWGB"
      },
      "execution_count": null,
      "outputs": []
    },
    {
      "cell_type": "code",
      "source": [
        "# Checking dataframe shape\n",
        "print((flights.count(), len(flights.columns)))"
      ],
      "metadata": {
        "id": "b4SI_tChMvcP",
        "colab": {
          "base_uri": "https://localhost:8080/"
        },
        "outputId": "e1afc783-e98c-46dd-87c4-1680e6e5b537"
      },
      "execution_count": null,
      "outputs": [
        {
          "output_type": "stream",
          "name": "stdout",
          "text": [
            "(10000, 16)\n"
          ]
        }
      ]
    },
    {
      "cell_type": "code",
      "source": [
        "# Show first 10 lines\n",
        "flights.show(10)"
      ],
      "metadata": {
        "id": "iUou-01yfrx-",
        "colab": {
          "base_uri": "https://localhost:8080/"
        },
        "outputId": "64a7112b-44a3-4ba8-cc03-e1380a139fde"
      },
      "execution_count": null,
      "outputs": [
        {
          "output_type": "stream",
          "name": "stdout",
          "text": [
            "+----+-----+---+--------+---------+--------+---------+-------+-------+------+------+----+--------+--------+----+------+\n",
            "|year|month|day|dep_time|dep_delay|arr_time|arr_delay|carrier|tailnum|flight|origin|dest|air_time|distance|hour|minute|\n",
            "+----+-----+---+--------+---------+--------+---------+-------+-------+------+------+----+--------+--------+----+------+\n",
            "|2014|   12|  8|     658|       -7|     935|       -5|     VX| N846VA|  1780|   SEA| LAX|     132|     954|   6|    58|\n",
            "|2014|    1| 22|    1040|        5|    1505|        5|     AS| N559AS|   851|   SEA| HNL|     360|    2677|  10|    40|\n",
            "|2014|    3|  9|    1443|       -2|    1652|        2|     VX| N847VA|   755|   SEA| SFO|     111|     679|  14|    43|\n",
            "|2014|    4|  9|    1705|       45|    1839|       34|     WN| N360SW|   344|   PDX| SJC|      83|     569|  17|     5|\n",
            "|2014|    3|  9|     754|       -1|    1015|        1|     AS| N612AS|   522|   SEA| BUR|     127|     937|   7|    54|\n",
            "|2014|    1| 15|    1037|        7|    1352|        2|     WN| N646SW|    48|   PDX| DEN|     121|     991|  10|    37|\n",
            "|2014|    7|  2|     847|       42|    1041|       51|     WN| N422WN|  1520|   PDX| OAK|      90|     543|   8|    47|\n",
            "|2014|    5| 12|    1655|       -5|    1842|      -18|     VX| N361VA|   755|   SEA| SFO|      98|     679|  16|    55|\n",
            "|2014|    4| 19|    1236|       -4|    1508|       -7|     AS| N309AS|   490|   SEA| SAN|     135|    1050|  12|    36|\n",
            "|2014|   11| 19|    1812|       -3|    2352|       -4|     AS| N564AS|    26|   SEA| ORD|     198|    1721|  18|    12|\n",
            "+----+-----+---+--------+---------+--------+---------+-------+-------+------+------+----+--------+--------+----+------+\n",
            "only showing top 10 rows\n",
            "\n"
          ]
        }
      ]
    },
    {
      "cell_type": "code",
      "source": [
        "# Checking columns types\n",
        "flights.printSchema()"
      ],
      "metadata": {
        "id": "n7f1ECG4LI24",
        "colab": {
          "base_uri": "https://localhost:8080/"
        },
        "outputId": "c9936786-8a47-4870-91d6-3cd8be3f3a53"
      },
      "execution_count": null,
      "outputs": [
        {
          "output_type": "stream",
          "name": "stdout",
          "text": [
            "root\n",
            " |-- year: integer (nullable = true)\n",
            " |-- month: integer (nullable = true)\n",
            " |-- day: integer (nullable = true)\n",
            " |-- dep_time: string (nullable = true)\n",
            " |-- dep_delay: string (nullable = true)\n",
            " |-- arr_time: string (nullable = true)\n",
            " |-- arr_delay: string (nullable = true)\n",
            " |-- carrier: string (nullable = true)\n",
            " |-- tailnum: string (nullable = true)\n",
            " |-- flight: integer (nullable = true)\n",
            " |-- origin: string (nullable = true)\n",
            " |-- dest: string (nullable = true)\n",
            " |-- air_time: string (nullable = true)\n",
            " |-- distance: integer (nullable = true)\n",
            " |-- hour: string (nullable = true)\n",
            " |-- minute: string (nullable = true)\n",
            "\n"
          ]
        }
      ]
    },
    {
      "cell_type": "code",
      "source": [
        "# Importing col function to perform operations on a specific column.\n",
        "from pyspark.sql.functions import col"
      ],
      "metadata": {
        "id": "uZwTQ1aIeFEQ"
      },
      "execution_count": null,
      "outputs": []
    },
    {
      "cell_type": "code",
      "source": [
        "# Creating \"new_air_time\" column by converting the values of the \"air_time\" column to integers. at the end we will remove \"air_time\" column\n",
        "flights = flights.withColumn(\"new_air_time\", col(\"air_time\").cast(\"integer\")).drop(\"air_time\")"
      ],
      "metadata": {
        "id": "1VLHyRJEMXjf"
      },
      "execution_count": null,
      "outputs": []
    },
    {
      "cell_type": "code",
      "source": [
        "# Renaming columns\n",
        "flights = flights.withColumnRenamed(\"new_air_time\",\"air_time\")"
      ],
      "metadata": {
        "id": "9hufcf75eecX"
      },
      "execution_count": null,
      "outputs": []
    },
    {
      "cell_type": "code",
      "source": [
        "flights.printSchema()"
      ],
      "metadata": {
        "colab": {
          "base_uri": "https://localhost:8080/"
        },
        "id": "MACNgpd-M-qU",
        "outputId": "3bc092fb-fcde-4607-f5b3-49bb74a644bd"
      },
      "execution_count": null,
      "outputs": [
        {
          "output_type": "stream",
          "name": "stdout",
          "text": [
            "root\n",
            " |-- year: integer (nullable = true)\n",
            " |-- month: integer (nullable = true)\n",
            " |-- day: integer (nullable = true)\n",
            " |-- dep_time: string (nullable = true)\n",
            " |-- dep_delay: string (nullable = true)\n",
            " |-- arr_time: string (nullable = true)\n",
            " |-- arr_delay: string (nullable = true)\n",
            " |-- carrier: string (nullable = true)\n",
            " |-- tailnum: string (nullable = true)\n",
            " |-- flight: integer (nullable = true)\n",
            " |-- origin: string (nullable = true)\n",
            " |-- dest: string (nullable = true)\n",
            " |-- distance: integer (nullable = true)\n",
            " |-- hour: string (nullable = true)\n",
            " |-- minute: string (nullable = true)\n",
            " |-- air_time: integer (nullable = true)\n",
            "\n"
          ]
        }
      ]
    },
    {
      "cell_type": "markdown",
      "source": [
        "## **Creating a Temporary View**\n",
        "\n",
        "In PySpark, a temporary view is a logical table that represents the data in a DataFrame. By creating a temporary view, you can query and manipulate the DataFrame using SQL syntax."
      ],
      "metadata": {
        "id": "nd96qeUoL67Z"
      }
    },
    {
      "cell_type": "code",
      "source": [
        "# Creating a temporary view called flights\n",
        "flights.createOrReplaceTempView(\"flights\")\n",
        "\n",
        "# Creating a query, to get the contect from the temp view\n",
        "query = \"SELECT * FROM flights LIMIT 10\"\n",
        "\n",
        "# run the query and storying in another variable called flights10\n",
        "flights10 = spark.sql(query)\n",
        "\n",
        "# see result\n",
        "flights10.show()"
      ],
      "metadata": {
        "id": "eXoN5JzafuQj",
        "colab": {
          "base_uri": "https://localhost:8080/"
        },
        "outputId": "d9637f49-20c3-4f58-8be6-40073985493e"
      },
      "execution_count": null,
      "outputs": [
        {
          "output_type": "stream",
          "name": "stdout",
          "text": [
            "+----+-----+---+--------+---------+--------+---------+-------+-------+------+------+----+--------+----+------+--------+\n",
            "|year|month|day|dep_time|dep_delay|arr_time|arr_delay|carrier|tailnum|flight|origin|dest|distance|hour|minute|air_time|\n",
            "+----+-----+---+--------+---------+--------+---------+-------+-------+------+------+----+--------+----+------+--------+\n",
            "|2014|   12|  8|     658|       -7|     935|       -5|     VX| N846VA|  1780|   SEA| LAX|     954|   6|    58|     132|\n",
            "|2014|    1| 22|    1040|        5|    1505|        5|     AS| N559AS|   851|   SEA| HNL|    2677|  10|    40|     360|\n",
            "|2014|    3|  9|    1443|       -2|    1652|        2|     VX| N847VA|   755|   SEA| SFO|     679|  14|    43|     111|\n",
            "|2014|    4|  9|    1705|       45|    1839|       34|     WN| N360SW|   344|   PDX| SJC|     569|  17|     5|      83|\n",
            "|2014|    3|  9|     754|       -1|    1015|        1|     AS| N612AS|   522|   SEA| BUR|     937|   7|    54|     127|\n",
            "|2014|    1| 15|    1037|        7|    1352|        2|     WN| N646SW|    48|   PDX| DEN|     991|  10|    37|     121|\n",
            "|2014|    7|  2|     847|       42|    1041|       51|     WN| N422WN|  1520|   PDX| OAK|     543|   8|    47|      90|\n",
            "|2014|    5| 12|    1655|       -5|    1842|      -18|     VX| N361VA|   755|   SEA| SFO|     679|  16|    55|      98|\n",
            "|2014|    4| 19|    1236|       -4|    1508|       -7|     AS| N309AS|   490|   SEA| SAN|    1050|  12|    36|     135|\n",
            "|2014|   11| 19|    1812|       -3|    2352|       -4|     AS| N564AS|    26|   SEA| ORD|    1721|  18|    12|     198|\n",
            "+----+-----+---+--------+---------+--------+---------+-------+-------+------+------+----+--------+----+------+--------+\n",
            "\n"
          ]
        }
      ]
    },
    {
      "cell_type": "markdown",
      "source": [
        "## **Global Temporary View**\n",
        "\n",
        "`Temporary views` (such as the one we created above) in Spark SQL have session scope and will disappear if the session that created them is terminated. If you want to have a temporary view shared across all sessions and keep it active until the Spark application is terminated, you can create a global temporary view. The global temporary view is tied to a `global_temp` database maintained by the system, and we must use the qualified name to reference it."
      ],
      "metadata": {
        "id": "h7QWLimvkpZh"
      }
    },
    {
      "cell_type": "code",
      "source": [
        "# Creating a global view\n",
        "flights.createGlobalTempView(\"flights\")\n",
        "\n",
        "# The global temporary view is associated with a system-preserved database called global_temp.\n",
        "spark.sql(\"SELECT * FROM global_temp.flights LIMIT 10\").show()"
      ],
      "metadata": {
        "id": "Eo1dqcDUfyEZ",
        "colab": {
          "base_uri": "https://localhost:8080/"
        },
        "outputId": "6c452efc-2786-4171-d2bb-25bd24fee5f8"
      },
      "execution_count": null,
      "outputs": [
        {
          "output_type": "stream",
          "name": "stdout",
          "text": [
            "+----+-----+---+--------+---------+--------+---------+-------+-------+------+------+----+--------+----+------+--------+\n",
            "|year|month|day|dep_time|dep_delay|arr_time|arr_delay|carrier|tailnum|flight|origin|dest|distance|hour|minute|air_time|\n",
            "+----+-----+---+--------+---------+--------+---------+-------+-------+------+------+----+--------+----+------+--------+\n",
            "|2014|   12|  8|     658|       -7|     935|       -5|     VX| N846VA|  1780|   SEA| LAX|     954|   6|    58|     132|\n",
            "|2014|    1| 22|    1040|        5|    1505|        5|     AS| N559AS|   851|   SEA| HNL|    2677|  10|    40|     360|\n",
            "|2014|    3|  9|    1443|       -2|    1652|        2|     VX| N847VA|   755|   SEA| SFO|     679|  14|    43|     111|\n",
            "|2014|    4|  9|    1705|       45|    1839|       34|     WN| N360SW|   344|   PDX| SJC|     569|  17|     5|      83|\n",
            "|2014|    3|  9|     754|       -1|    1015|        1|     AS| N612AS|   522|   SEA| BUR|     937|   7|    54|     127|\n",
            "|2014|    1| 15|    1037|        7|    1352|        2|     WN| N646SW|    48|   PDX| DEN|     991|  10|    37|     121|\n",
            "|2014|    7|  2|     847|       42|    1041|       51|     WN| N422WN|  1520|   PDX| OAK|     543|   8|    47|      90|\n",
            "|2014|    5| 12|    1655|       -5|    1842|      -18|     VX| N361VA|   755|   SEA| SFO|     679|  16|    55|      98|\n",
            "|2014|    4| 19|    1236|       -4|    1508|       -7|     AS| N309AS|   490|   SEA| SAN|    1050|  12|    36|     135|\n",
            "|2014|   11| 19|    1812|       -3|    2352|       -4|     AS| N564AS|    26|   SEA| ORD|    1721|  18|    12|     198|\n",
            "+----+-----+---+--------+---------+--------+---------+-------+-------+------+------+----+--------+----+------+--------+\n",
            "\n"
          ]
        }
      ]
    },
    {
      "cell_type": "markdown",
      "source": [
        "## **Converting PySpark DataFrame to Pandas DataFrame**\n",
        "\n",
        "Suppose you have executed a query on your massive dataset and aggregated it to something more manageable.\n",
        "\n",
        "Spark DataFrames make this easy with the `.toPandas()` method. Calling this method on a Spark DataFrame returns the corresponding pandas DataFrame. It's as simple as that!"
      ],
      "metadata": {
        "id": "zBDxrNp4IxL7"
      }
    },
    {
      "cell_type": "code",
      "source": [
        "# The query counts the number of flights for each airport in SEA and PDX.\n",
        "query = \"SELECT origin, dest, COUNT(*) as N FROM flights GROUP BY origin, dest\"\n",
        "flight_counts = spark.sql(query)\n",
        "flight_counts.show()"
      ],
      "metadata": {
        "id": "iBxGAVeNmNoi",
        "colab": {
          "base_uri": "https://localhost:8080/"
        },
        "outputId": "6617c779-0e4e-4bb7-d4a3-30a3091ebe46"
      },
      "execution_count": null,
      "outputs": [
        {
          "output_type": "stream",
          "name": "stdout",
          "text": [
            "+------+----+---+\n",
            "|origin|dest|  N|\n",
            "+------+----+---+\n",
            "|   SEA| RNO|  8|\n",
            "|   SEA| DTW| 98|\n",
            "|   SEA| CLE|  2|\n",
            "|   SEA| LAX|450|\n",
            "|   PDX| SEA|144|\n",
            "|   SEA| BLI|  5|\n",
            "|   PDX| IAH| 57|\n",
            "|   PDX| PHX|209|\n",
            "|   SEA| SLC|225|\n",
            "|   SEA| SBA| 23|\n",
            "|   SEA| BWI| 29|\n",
            "|   PDX| IAD| 23|\n",
            "|   PDX| SFO|305|\n",
            "|   SEA| KOA| 40|\n",
            "|   PDX| MCI| 15|\n",
            "|   SEA| SJC|213|\n",
            "|   SEA| ABQ| 43|\n",
            "|   SEA| SAT| 18|\n",
            "|   PDX| ONT| 57|\n",
            "|   SEA| LAS|364|\n",
            "+------+----+---+\n",
            "only showing top 20 rows\n",
            "\n"
          ]
        }
      ]
    },
    {
      "cell_type": "code",
      "source": [
        "# Import pandas lib\n",
        "import pandas as pd\n",
        "\n",
        "# Converting Spark Dataframe to Pandas Dataframe\n",
        "df_flight_counts = flight_counts.toPandas()"
      ],
      "metadata": {
        "id": "xsQI5MK87Mu7"
      },
      "execution_count": null,
      "outputs": []
    },
    {
      "cell_type": "code",
      "source": [
        "df_flight_counts.head(20)"
      ],
      "metadata": {
        "colab": {
          "base_uri": "https://localhost:8080/",
          "height": 677
        },
        "id": "86hH9PnZQLWb",
        "outputId": "96ecbc8e-1ced-4d5d-9929-45605a43d446"
      },
      "execution_count": null,
      "outputs": [
        {
          "output_type": "execute_result",
          "data": {
            "text/plain": [
              "   origin dest    N\n",
              "0     SEA  RNO    8\n",
              "1     SEA  DTW   98\n",
              "2     SEA  CLE    2\n",
              "3     SEA  LAX  450\n",
              "4     PDX  SEA  144\n",
              "5     SEA  BLI    5\n",
              "6     PDX  IAH   57\n",
              "7     PDX  PHX  209\n",
              "8     SEA  SLC  225\n",
              "9     SEA  SBA   23\n",
              "10    SEA  BWI   29\n",
              "11    PDX  IAD   23\n",
              "12    PDX  SFO  305\n",
              "13    SEA  KOA   40\n",
              "14    PDX  MCI   15\n",
              "15    SEA  SJC  213\n",
              "16    SEA  ABQ   43\n",
              "17    SEA  SAT   18\n",
              "18    PDX  ONT   57\n",
              "19    SEA  LAS  364"
            ],
            "text/html": [
              "\n",
              "  <div id=\"df-2405bcb6-ec04-4981-9c22-4fd2f246ab95\">\n",
              "    <div class=\"colab-df-container\">\n",
              "      <div>\n",
              "<style scoped>\n",
              "    .dataframe tbody tr th:only-of-type {\n",
              "        vertical-align: middle;\n",
              "    }\n",
              "\n",
              "    .dataframe tbody tr th {\n",
              "        vertical-align: top;\n",
              "    }\n",
              "\n",
              "    .dataframe thead th {\n",
              "        text-align: right;\n",
              "    }\n",
              "</style>\n",
              "<table border=\"1\" class=\"dataframe\">\n",
              "  <thead>\n",
              "    <tr style=\"text-align: right;\">\n",
              "      <th></th>\n",
              "      <th>origin</th>\n",
              "      <th>dest</th>\n",
              "      <th>N</th>\n",
              "    </tr>\n",
              "  </thead>\n",
              "  <tbody>\n",
              "    <tr>\n",
              "      <th>0</th>\n",
              "      <td>SEA</td>\n",
              "      <td>RNO</td>\n",
              "      <td>8</td>\n",
              "    </tr>\n",
              "    <tr>\n",
              "      <th>1</th>\n",
              "      <td>SEA</td>\n",
              "      <td>DTW</td>\n",
              "      <td>98</td>\n",
              "    </tr>\n",
              "    <tr>\n",
              "      <th>2</th>\n",
              "      <td>SEA</td>\n",
              "      <td>CLE</td>\n",
              "      <td>2</td>\n",
              "    </tr>\n",
              "    <tr>\n",
              "      <th>3</th>\n",
              "      <td>SEA</td>\n",
              "      <td>LAX</td>\n",
              "      <td>450</td>\n",
              "    </tr>\n",
              "    <tr>\n",
              "      <th>4</th>\n",
              "      <td>PDX</td>\n",
              "      <td>SEA</td>\n",
              "      <td>144</td>\n",
              "    </tr>\n",
              "    <tr>\n",
              "      <th>5</th>\n",
              "      <td>SEA</td>\n",
              "      <td>BLI</td>\n",
              "      <td>5</td>\n",
              "    </tr>\n",
              "    <tr>\n",
              "      <th>6</th>\n",
              "      <td>PDX</td>\n",
              "      <td>IAH</td>\n",
              "      <td>57</td>\n",
              "    </tr>\n",
              "    <tr>\n",
              "      <th>7</th>\n",
              "      <td>PDX</td>\n",
              "      <td>PHX</td>\n",
              "      <td>209</td>\n",
              "    </tr>\n",
              "    <tr>\n",
              "      <th>8</th>\n",
              "      <td>SEA</td>\n",
              "      <td>SLC</td>\n",
              "      <td>225</td>\n",
              "    </tr>\n",
              "    <tr>\n",
              "      <th>9</th>\n",
              "      <td>SEA</td>\n",
              "      <td>SBA</td>\n",
              "      <td>23</td>\n",
              "    </tr>\n",
              "    <tr>\n",
              "      <th>10</th>\n",
              "      <td>SEA</td>\n",
              "      <td>BWI</td>\n",
              "      <td>29</td>\n",
              "    </tr>\n",
              "    <tr>\n",
              "      <th>11</th>\n",
              "      <td>PDX</td>\n",
              "      <td>IAD</td>\n",
              "      <td>23</td>\n",
              "    </tr>\n",
              "    <tr>\n",
              "      <th>12</th>\n",
              "      <td>PDX</td>\n",
              "      <td>SFO</td>\n",
              "      <td>305</td>\n",
              "    </tr>\n",
              "    <tr>\n",
              "      <th>13</th>\n",
              "      <td>SEA</td>\n",
              "      <td>KOA</td>\n",
              "      <td>40</td>\n",
              "    </tr>\n",
              "    <tr>\n",
              "      <th>14</th>\n",
              "      <td>PDX</td>\n",
              "      <td>MCI</td>\n",
              "      <td>15</td>\n",
              "    </tr>\n",
              "    <tr>\n",
              "      <th>15</th>\n",
              "      <td>SEA</td>\n",
              "      <td>SJC</td>\n",
              "      <td>213</td>\n",
              "    </tr>\n",
              "    <tr>\n",
              "      <th>16</th>\n",
              "      <td>SEA</td>\n",
              "      <td>ABQ</td>\n",
              "      <td>43</td>\n",
              "    </tr>\n",
              "    <tr>\n",
              "      <th>17</th>\n",
              "      <td>SEA</td>\n",
              "      <td>SAT</td>\n",
              "      <td>18</td>\n",
              "    </tr>\n",
              "    <tr>\n",
              "      <th>18</th>\n",
              "      <td>PDX</td>\n",
              "      <td>ONT</td>\n",
              "      <td>57</td>\n",
              "    </tr>\n",
              "    <tr>\n",
              "      <th>19</th>\n",
              "      <td>SEA</td>\n",
              "      <td>LAS</td>\n",
              "      <td>364</td>\n",
              "    </tr>\n",
              "  </tbody>\n",
              "</table>\n",
              "</div>\n",
              "      <button class=\"colab-df-convert\" onclick=\"convertToInteractive('df-2405bcb6-ec04-4981-9c22-4fd2f246ab95')\"\n",
              "              title=\"Convert this dataframe to an interactive table.\"\n",
              "              style=\"display:none;\">\n",
              "        \n",
              "  <svg xmlns=\"http://www.w3.org/2000/svg\" height=\"24px\"viewBox=\"0 0 24 24\"\n",
              "       width=\"24px\">\n",
              "    <path d=\"M0 0h24v24H0V0z\" fill=\"none\"/>\n",
              "    <path d=\"M18.56 5.44l.94 2.06.94-2.06 2.06-.94-2.06-.94-.94-2.06-.94 2.06-2.06.94zm-11 1L8.5 8.5l.94-2.06 2.06-.94-2.06-.94L8.5 2.5l-.94 2.06-2.06.94zm10 10l.94 2.06.94-2.06 2.06-.94-2.06-.94-.94-2.06-.94 2.06-2.06.94z\"/><path d=\"M17.41 7.96l-1.37-1.37c-.4-.4-.92-.59-1.43-.59-.52 0-1.04.2-1.43.59L10.3 9.45l-7.72 7.72c-.78.78-.78 2.05 0 2.83L4 21.41c.39.39.9.59 1.41.59.51 0 1.02-.2 1.41-.59l7.78-7.78 2.81-2.81c.8-.78.8-2.07 0-2.86zM5.41 20L4 18.59l7.72-7.72 1.47 1.35L5.41 20z\"/>\n",
              "  </svg>\n",
              "      </button>\n",
              "      \n",
              "  <style>\n",
              "    .colab-df-container {\n",
              "      display:flex;\n",
              "      flex-wrap:wrap;\n",
              "      gap: 12px;\n",
              "    }\n",
              "\n",
              "    .colab-df-convert {\n",
              "      background-color: #E8F0FE;\n",
              "      border: none;\n",
              "      border-radius: 50%;\n",
              "      cursor: pointer;\n",
              "      display: none;\n",
              "      fill: #1967D2;\n",
              "      height: 32px;\n",
              "      padding: 0 0 0 0;\n",
              "      width: 32px;\n",
              "    }\n",
              "\n",
              "    .colab-df-convert:hover {\n",
              "      background-color: #E2EBFA;\n",
              "      box-shadow: 0px 1px 2px rgba(60, 64, 67, 0.3), 0px 1px 3px 1px rgba(60, 64, 67, 0.15);\n",
              "      fill: #174EA6;\n",
              "    }\n",
              "\n",
              "    [theme=dark] .colab-df-convert {\n",
              "      background-color: #3B4455;\n",
              "      fill: #D2E3FC;\n",
              "    }\n",
              "\n",
              "    [theme=dark] .colab-df-convert:hover {\n",
              "      background-color: #434B5C;\n",
              "      box-shadow: 0px 1px 3px 1px rgba(0, 0, 0, 0.15);\n",
              "      filter: drop-shadow(0px 1px 2px rgba(0, 0, 0, 0.3));\n",
              "      fill: #FFFFFF;\n",
              "    }\n",
              "  </style>\n",
              "\n",
              "      <script>\n",
              "        const buttonEl =\n",
              "          document.querySelector('#df-2405bcb6-ec04-4981-9c22-4fd2f246ab95 button.colab-df-convert');\n",
              "        buttonEl.style.display =\n",
              "          google.colab.kernel.accessAllowed ? 'block' : 'none';\n",
              "\n",
              "        async function convertToInteractive(key) {\n",
              "          const element = document.querySelector('#df-2405bcb6-ec04-4981-9c22-4fd2f246ab95');\n",
              "          const dataTable =\n",
              "            await google.colab.kernel.invokeFunction('convertToInteractive',\n",
              "                                                     [key], {});\n",
              "          if (!dataTable) return;\n",
              "\n",
              "          const docLinkHtml = 'Like what you see? Visit the ' +\n",
              "            '<a target=\"_blank\" href=https://colab.research.google.com/notebooks/data_table.ipynb>data table notebook</a>'\n",
              "            + ' to learn more about interactive tables.';\n",
              "          element.innerHTML = '';\n",
              "          dataTable['output_type'] = 'display_data';\n",
              "          await google.colab.output.renderOutput(dataTable, element);\n",
              "          const docLink = document.createElement('div');\n",
              "          docLink.innerHTML = docLinkHtml;\n",
              "          element.appendChild(docLink);\n",
              "        }\n",
              "      </script>\n",
              "    </div>\n",
              "  </div>\n",
              "  "
            ]
          },
          "metadata": {},
          "execution_count": 70
        }
      ]
    },
    {
      "cell_type": "markdown",
      "source": [
        "However, you may want to go in the other direction and put a pandas DataFrame into a Spark cluster, the .`createDataFrame() `method takes a pandas DataFrame and returns a Spark DataFrame.\n",
        "\n",
        "The output of this method is stored locally, not in the SparkSession catalog. This means you can use all the Spark DataFrame methods on it, but you cannot access the data in other contexts.\n",
        "\n",
        "For example, an SQL query (using the `.sql()` method) that references your DataFrame will result in an error. To access the data in that way, you must save it as a temporary table."
      ],
      "metadata": {
        "id": "8rJp3IHJPXPE"
      }
    },
    {
      "cell_type": "code",
      "source": [
        "# Creating a Pandas Dataframe with CSV data\n",
        "arq = \"/data/airports.csv\"\n",
        "pd_temp = pd.read_csv(arq)"
      ],
      "metadata": {
        "id": "iaqu9uxFPfrn"
      },
      "execution_count": null,
      "outputs": []
    },
    {
      "cell_type": "code",
      "source": [
        "pd_temp.head()"
      ],
      "metadata": {
        "id": "wBQybyOqQSv0",
        "colab": {
          "base_uri": "https://localhost:8080/",
          "height": 206
        },
        "outputId": "1666e5e2-c881-47ba-c3f7-5b6861d83e32"
      },
      "execution_count": null,
      "outputs": [
        {
          "output_type": "execute_result",
          "data": {
            "text/plain": [
              "   faa                           name        lat        lon   alt  tz dst\n",
              "0  04G              Lansdowne Airport  41.130472 -80.619583  1044  -5   A\n",
              "1  06A  Moton Field Municipal Airport  32.460572 -85.680028   264  -5   A\n",
              "2  06C            Schaumburg Regional  41.989341 -88.101243   801  -6   A\n",
              "3  06N                Randall Airport  41.431912 -74.391561   523  -5   A\n",
              "4  09J          Jekyll Island Airport  31.074472 -81.427778    11  -4   A"
            ],
            "text/html": [
              "\n",
              "  <div id=\"df-caf26e3c-a857-4a4f-af04-fe406092021b\">\n",
              "    <div class=\"colab-df-container\">\n",
              "      <div>\n",
              "<style scoped>\n",
              "    .dataframe tbody tr th:only-of-type {\n",
              "        vertical-align: middle;\n",
              "    }\n",
              "\n",
              "    .dataframe tbody tr th {\n",
              "        vertical-align: top;\n",
              "    }\n",
              "\n",
              "    .dataframe thead th {\n",
              "        text-align: right;\n",
              "    }\n",
              "</style>\n",
              "<table border=\"1\" class=\"dataframe\">\n",
              "  <thead>\n",
              "    <tr style=\"text-align: right;\">\n",
              "      <th></th>\n",
              "      <th>faa</th>\n",
              "      <th>name</th>\n",
              "      <th>lat</th>\n",
              "      <th>lon</th>\n",
              "      <th>alt</th>\n",
              "      <th>tz</th>\n",
              "      <th>dst</th>\n",
              "    </tr>\n",
              "  </thead>\n",
              "  <tbody>\n",
              "    <tr>\n",
              "      <th>0</th>\n",
              "      <td>04G</td>\n",
              "      <td>Lansdowne Airport</td>\n",
              "      <td>41.130472</td>\n",
              "      <td>-80.619583</td>\n",
              "      <td>1044</td>\n",
              "      <td>-5</td>\n",
              "      <td>A</td>\n",
              "    </tr>\n",
              "    <tr>\n",
              "      <th>1</th>\n",
              "      <td>06A</td>\n",
              "      <td>Moton Field Municipal Airport</td>\n",
              "      <td>32.460572</td>\n",
              "      <td>-85.680028</td>\n",
              "      <td>264</td>\n",
              "      <td>-5</td>\n",
              "      <td>A</td>\n",
              "    </tr>\n",
              "    <tr>\n",
              "      <th>2</th>\n",
              "      <td>06C</td>\n",
              "      <td>Schaumburg Regional</td>\n",
              "      <td>41.989341</td>\n",
              "      <td>-88.101243</td>\n",
              "      <td>801</td>\n",
              "      <td>-6</td>\n",
              "      <td>A</td>\n",
              "    </tr>\n",
              "    <tr>\n",
              "      <th>3</th>\n",
              "      <td>06N</td>\n",
              "      <td>Randall Airport</td>\n",
              "      <td>41.431912</td>\n",
              "      <td>-74.391561</td>\n",
              "      <td>523</td>\n",
              "      <td>-5</td>\n",
              "      <td>A</td>\n",
              "    </tr>\n",
              "    <tr>\n",
              "      <th>4</th>\n",
              "      <td>09J</td>\n",
              "      <td>Jekyll Island Airport</td>\n",
              "      <td>31.074472</td>\n",
              "      <td>-81.427778</td>\n",
              "      <td>11</td>\n",
              "      <td>-4</td>\n",
              "      <td>A</td>\n",
              "    </tr>\n",
              "  </tbody>\n",
              "</table>\n",
              "</div>\n",
              "      <button class=\"colab-df-convert\" onclick=\"convertToInteractive('df-caf26e3c-a857-4a4f-af04-fe406092021b')\"\n",
              "              title=\"Convert this dataframe to an interactive table.\"\n",
              "              style=\"display:none;\">\n",
              "        \n",
              "  <svg xmlns=\"http://www.w3.org/2000/svg\" height=\"24px\"viewBox=\"0 0 24 24\"\n",
              "       width=\"24px\">\n",
              "    <path d=\"M0 0h24v24H0V0z\" fill=\"none\"/>\n",
              "    <path d=\"M18.56 5.44l.94 2.06.94-2.06 2.06-.94-2.06-.94-.94-2.06-.94 2.06-2.06.94zm-11 1L8.5 8.5l.94-2.06 2.06-.94-2.06-.94L8.5 2.5l-.94 2.06-2.06.94zm10 10l.94 2.06.94-2.06 2.06-.94-2.06-.94-.94-2.06-.94 2.06-2.06.94z\"/><path d=\"M17.41 7.96l-1.37-1.37c-.4-.4-.92-.59-1.43-.59-.52 0-1.04.2-1.43.59L10.3 9.45l-7.72 7.72c-.78.78-.78 2.05 0 2.83L4 21.41c.39.39.9.59 1.41.59.51 0 1.02-.2 1.41-.59l7.78-7.78 2.81-2.81c.8-.78.8-2.07 0-2.86zM5.41 20L4 18.59l7.72-7.72 1.47 1.35L5.41 20z\"/>\n",
              "  </svg>\n",
              "      </button>\n",
              "      \n",
              "  <style>\n",
              "    .colab-df-container {\n",
              "      display:flex;\n",
              "      flex-wrap:wrap;\n",
              "      gap: 12px;\n",
              "    }\n",
              "\n",
              "    .colab-df-convert {\n",
              "      background-color: #E8F0FE;\n",
              "      border: none;\n",
              "      border-radius: 50%;\n",
              "      cursor: pointer;\n",
              "      display: none;\n",
              "      fill: #1967D2;\n",
              "      height: 32px;\n",
              "      padding: 0 0 0 0;\n",
              "      width: 32px;\n",
              "    }\n",
              "\n",
              "    .colab-df-convert:hover {\n",
              "      background-color: #E2EBFA;\n",
              "      box-shadow: 0px 1px 2px rgba(60, 64, 67, 0.3), 0px 1px 3px 1px rgba(60, 64, 67, 0.15);\n",
              "      fill: #174EA6;\n",
              "    }\n",
              "\n",
              "    [theme=dark] .colab-df-convert {\n",
              "      background-color: #3B4455;\n",
              "      fill: #D2E3FC;\n",
              "    }\n",
              "\n",
              "    [theme=dark] .colab-df-convert:hover {\n",
              "      background-color: #434B5C;\n",
              "      box-shadow: 0px 1px 3px 1px rgba(0, 0, 0, 0.15);\n",
              "      filter: drop-shadow(0px 1px 2px rgba(0, 0, 0, 0.3));\n",
              "      fill: #FFFFFF;\n",
              "    }\n",
              "  </style>\n",
              "\n",
              "      <script>\n",
              "        const buttonEl =\n",
              "          document.querySelector('#df-caf26e3c-a857-4a4f-af04-fe406092021b button.colab-df-convert');\n",
              "        buttonEl.style.display =\n",
              "          google.colab.kernel.accessAllowed ? 'block' : 'none';\n",
              "\n",
              "        async function convertToInteractive(key) {\n",
              "          const element = document.querySelector('#df-caf26e3c-a857-4a4f-af04-fe406092021b');\n",
              "          const dataTable =\n",
              "            await google.colab.kernel.invokeFunction('convertToInteractive',\n",
              "                                                     [key], {});\n",
              "          if (!dataTable) return;\n",
              "\n",
              "          const docLinkHtml = 'Like what you see? Visit the ' +\n",
              "            '<a target=\"_blank\" href=https://colab.research.google.com/notebooks/data_table.ipynb>data table notebook</a>'\n",
              "            + ' to learn more about interactive tables.';\n",
              "          element.innerHTML = '';\n",
              "          dataTable['output_type'] = 'display_data';\n",
              "          await google.colab.output.renderOutput(dataTable, element);\n",
              "          const docLink = document.createElement('div');\n",
              "          docLink.innerHTML = docLinkHtml;\n",
              "          element.appendChild(docLink);\n",
              "        }\n",
              "      </script>\n",
              "    </div>\n",
              "  </div>\n",
              "  "
            ]
          },
          "metadata": {},
          "execution_count": 72
        }
      ]
    },
    {
      "cell_type": "code",
      "source": [
        "# Creating Spark Dataframe from CSV data\n",
        "airports = spark.createDataFrame(pd_temp)"
      ],
      "metadata": {
        "id": "swarH8YZQDyX",
        "colab": {
          "base_uri": "https://localhost:8080/"
        },
        "outputId": "c7f51b9d-a2ef-4d19-9c5a-dbd4a2c98af1"
      },
      "execution_count": 109,
      "outputs": [
        {
          "output_type": "stream",
          "name": "stderr",
          "text": [
            "/content/spark-3.1.2-bin-hadoop2.7/python/pyspark/sql/pandas/conversion.py:331: FutureWarning: iteritems is deprecated and will be removed in a future version. Use .items instead.\n",
            "  for column, series in pdf.iteritems():\n"
          ]
        }
      ]
    },
    {
      "cell_type": "code",
      "source": [
        "airports.show(5)"
      ],
      "metadata": {
        "id": "YAhHNSGpQWwv",
        "colab": {
          "base_uri": "https://localhost:8080/"
        },
        "outputId": "464c389c-f0b9-454f-f570-a32f8e51e74d"
      },
      "execution_count": 110,
      "outputs": [
        {
          "output_type": "stream",
          "name": "stdout",
          "text": [
            "+---+--------------------+----------+-----------+----+---+---+\n",
            "|faa|                name|       lat|        lon| alt| tz|dst|\n",
            "+---+--------------------+----------+-----------+----+---+---+\n",
            "|04G|   Lansdowne Airport|41.1304722|-80.6195833|1044| -5|  A|\n",
            "|06A|Moton Field Munic...|32.4605722|-85.6800278| 264| -5|  A|\n",
            "|06C| Schaumburg Regional|41.9893408|-88.1012428| 801| -6|  A|\n",
            "|06N|     Randall Airport| 41.431912|-74.3915611| 523| -5|  A|\n",
            "|09J|Jekyll Island Air...|31.0744722|-81.4277778|  11| -4|  A|\n",
            "+---+--------------------+----------+-----------+----+---+---+\n",
            "only showing top 5 rows\n",
            "\n"
          ]
        }
      ]
    },
    {
      "cell_type": "markdown",
      "source": [
        "## **Manipulating Data**\n",
        "\n",
        "In Spark, you can do this using the `.withColumn()` method, which takes two arguments. First, a string with the name of your new column, and then the column itself.\n",
        "\n",
        "Updating a Spark DataFrame is slightly different from working with pandas because the Spark DataFrame is immutable. This means it cannot be changed, and therefore, columns cannot be updated in-place.\n",
        "\n",
        "Thus, all these methods return a new DataFrame. To replace the original DataFrame, you need to reassign the returned DataFrame using the method as follows: `df = df.withColumn(\"newCol\", df.oldCol + 1)`"
      ],
      "metadata": {
        "id": "-sjnx72c6FTe"
      }
    },
    {
      "cell_type": "code",
      "source": [
        "# Converting data on the air_time collum from minutes to hours\n",
        "flights.select(flights.air_time/60).show()"
      ],
      "metadata": {
        "colab": {
          "base_uri": "https://localhost:8080/"
        },
        "id": "_y_nm6fMSqZw",
        "outputId": "91fdcee4-6e86-4c27-b353-be47e5136f3b"
      },
      "execution_count": null,
      "outputs": [
        {
          "output_type": "stream",
          "name": "stdout",
          "text": [
            "+------------------+\n",
            "|   (air_time / 60)|\n",
            "+------------------+\n",
            "|               2.2|\n",
            "|               6.0|\n",
            "|              1.85|\n",
            "|1.3833333333333333|\n",
            "|2.1166666666666667|\n",
            "|2.0166666666666666|\n",
            "|               1.5|\n",
            "|1.6333333333333333|\n",
            "|              2.25|\n",
            "|               3.3|\n",
            "|2.1666666666666665|\n",
            "| 2.566666666666667|\n",
            "|2.1166666666666667|\n",
            "|              3.05|\n",
            "|              2.15|\n",
            "|               1.5|\n",
            "|1.2666666666666666|\n",
            "|               3.6|\n",
            "| 4.833333333333333|\n",
            "|              1.85|\n",
            "+------------------+\n",
            "only showing top 20 rows\n",
            "\n"
          ]
        }
      ]
    },
    {
      "cell_type": "code",
      "source": [
        "# Add column created on the last step\n",
        "flights = flights.withColumn(\"airtime_hrs\", flights.air_time/60)"
      ],
      "metadata": {
        "id": "Yh3CDdYuQ36S"
      },
      "execution_count": null,
      "outputs": []
    },
    {
      "cell_type": "code",
      "source": [
        "flights.show(10)"
      ],
      "metadata": {
        "colab": {
          "base_uri": "https://localhost:8080/"
        },
        "id": "tsJ5hWGhSsD4",
        "outputId": "1f53369e-5037-43e7-e8b9-1c7070f9bd0a"
      },
      "execution_count": null,
      "outputs": [
        {
          "output_type": "stream",
          "name": "stdout",
          "text": [
            "+----+-----+---+--------+---------+--------+---------+-------+-------+------+------+----+--------+----+------+--------+------------------+\n",
            "|year|month|day|dep_time|dep_delay|arr_time|arr_delay|carrier|tailnum|flight|origin|dest|distance|hour|minute|air_time|       airtime_hrs|\n",
            "+----+-----+---+--------+---------+--------+---------+-------+-------+------+------+----+--------+----+------+--------+------------------+\n",
            "|2014|   12|  8|     658|       -7|     935|       -5|     VX| N846VA|  1780|   SEA| LAX|     954|   6|    58|     132|               2.2|\n",
            "|2014|    1| 22|    1040|        5|    1505|        5|     AS| N559AS|   851|   SEA| HNL|    2677|  10|    40|     360|               6.0|\n",
            "|2014|    3|  9|    1443|       -2|    1652|        2|     VX| N847VA|   755|   SEA| SFO|     679|  14|    43|     111|              1.85|\n",
            "|2014|    4|  9|    1705|       45|    1839|       34|     WN| N360SW|   344|   PDX| SJC|     569|  17|     5|      83|1.3833333333333333|\n",
            "|2014|    3|  9|     754|       -1|    1015|        1|     AS| N612AS|   522|   SEA| BUR|     937|   7|    54|     127|2.1166666666666667|\n",
            "|2014|    1| 15|    1037|        7|    1352|        2|     WN| N646SW|    48|   PDX| DEN|     991|  10|    37|     121|2.0166666666666666|\n",
            "|2014|    7|  2|     847|       42|    1041|       51|     WN| N422WN|  1520|   PDX| OAK|     543|   8|    47|      90|               1.5|\n",
            "|2014|    5| 12|    1655|       -5|    1842|      -18|     VX| N361VA|   755|   SEA| SFO|     679|  16|    55|      98|1.6333333333333333|\n",
            "|2014|    4| 19|    1236|       -4|    1508|       -7|     AS| N309AS|   490|   SEA| SAN|    1050|  12|    36|     135|              2.25|\n",
            "|2014|   11| 19|    1812|       -3|    2352|       -4|     AS| N564AS|    26|   SEA| ORD|    1721|  18|    12|     198|               3.3|\n",
            "+----+-----+---+--------+---------+--------+---------+-------+-------+------+------+----+--------+----+------+--------+------------------+\n",
            "only showing top 10 rows\n",
            "\n"
          ]
        }
      ]
    },
    {
      "cell_type": "markdown",
      "source": [
        "You can also use the `.alias()` method to rename a selected column. So, if you wanted to `.select()` the column `duration_hrs` (which is not in your DataFrame), it will also works."
      ],
      "metadata": {
        "id": "9OIEbrvDZyGe"
      }
    },
    {
      "cell_type": "code",
      "source": [
        "#flights.select((flights.air_time/60).alias(\"airtime_hrs\")).show()"
      ],
      "metadata": {
        "id": "wnLG0cCSSyyB",
        "colab": {
          "base_uri": "https://localhost:8080/"
        },
        "outputId": "9d10609d-c4eb-4924-ad17-45d09bb771fc"
      },
      "execution_count": null,
      "outputs": [
        {
          "output_type": "stream",
          "name": "stdout",
          "text": [
            "+------------------+\n",
            "|      duration_hrs|\n",
            "+------------------+\n",
            "|               2.2|\n",
            "|               6.0|\n",
            "|              1.85|\n",
            "|1.3833333333333333|\n",
            "|2.1166666666666667|\n",
            "|2.0166666666666666|\n",
            "|               1.5|\n",
            "|1.6333333333333333|\n",
            "|              2.25|\n",
            "|               3.3|\n",
            "|2.1666666666666665|\n",
            "| 2.566666666666667|\n",
            "|2.1166666666666667|\n",
            "|              3.05|\n",
            "|              2.15|\n",
            "|               1.5|\n",
            "|1.2666666666666666|\n",
            "|               3.6|\n",
            "| 4.833333333333333|\n",
            "|              1.85|\n",
            "+------------------+\n",
            "only showing top 20 rows\n",
            "\n"
          ]
        }
      ]
    },
    {
      "cell_type": "markdown",
      "source": [
        "## **Selecting Data**\n",
        "The Spark variant of SQL's `SELECT` is the `.select()` method. This method takes multiple arguments - one for each column you want to select. These arguments can be the column name as a string (one for each column) or a column object (using the syntax `df.colName`). By passing a column object, you can perform operations like addition or subtraction on the column to modify the data it contains, just like in .withColumn().\n",
        "\n",
        "The difference between the `.select()` and `.withColumn()` methods is that `.select()` returns only the columns you specify, while `.withColumn()` returns all columns of the DataFrame, including the one you defined. It is often a good idea to drop unnecessary columns at the beginning of an operation so that you don't carry extra data while processing. In that case, you would use `.select()` and not `.withColumn()`.\n",
        "\n",
        "Similar to SQL, you can also use the `.select(`) method in Spark to perform operations on columns. When selecting a column using the notation df.colName, you can perform any column operation, and the `.select()` method will return the transformed column. For example"
      ],
      "metadata": {
        "id": "n0pJLDyXBjz9"
      }
    },
    {
      "cell_type": "code",
      "source": [
        "# Selecting some columns from the main Dataframe\n",
        "selected1 = flights.select(\"tailnum\", \"origin\", \"dest\")\n",
        "selected1.show()"
      ],
      "metadata": {
        "id": "k1GgF2GXCAT4",
        "colab": {
          "base_uri": "https://localhost:8080/"
        },
        "outputId": "2f2c8bcb-f064-412b-c74b-03d97e3247c8"
      },
      "execution_count": null,
      "outputs": [
        {
          "output_type": "stream",
          "name": "stdout",
          "text": [
            "+-------+------+----+\n",
            "|tailnum|origin|dest|\n",
            "+-------+------+----+\n",
            "| N846VA|   SEA| LAX|\n",
            "| N559AS|   SEA| HNL|\n",
            "| N847VA|   SEA| SFO|\n",
            "| N360SW|   PDX| SJC|\n",
            "| N612AS|   SEA| BUR|\n",
            "| N646SW|   PDX| DEN|\n",
            "| N422WN|   PDX| OAK|\n",
            "| N361VA|   SEA| SFO|\n",
            "| N309AS|   SEA| SAN|\n",
            "| N564AS|   SEA| ORD|\n",
            "| N323AS|   SEA| LAX|\n",
            "| N305AS|   SEA| PHX|\n",
            "| N433AS|   SEA| LAS|\n",
            "| N765AS|   SEA| ANC|\n",
            "| N713AS|   SEA| SFO|\n",
            "| N27205|   PDX| SFO|\n",
            "| N626AS|   SEA| SMF|\n",
            "| N8634A|   SEA| MDW|\n",
            "| N597AS|   SEA| BOS|\n",
            "| N215AG|   PDX| BUR|\n",
            "+-------+------+----+\n",
            "only showing top 20 rows\n",
            "\n"
          ]
        }
      ]
    },
    {
      "cell_type": "code",
      "source": [
        "# Selecting some columns from the main Dataframe - SECOND WAY\n",
        "selected_columns = [\"tailnum\", \"origin\", \"dest\"]\n",
        "selected2 = flights.select(selected_columns)\n",
        "selected2.show()"
      ],
      "metadata": {
        "colab": {
          "base_uri": "https://localhost:8080/"
        },
        "id": "0x6k8kb5SBLy",
        "outputId": "d889f017-388a-47de-e15a-47a6f0cd37d4"
      },
      "execution_count": null,
      "outputs": [
        {
          "output_type": "stream",
          "name": "stdout",
          "text": [
            "+-------+------+----+\n",
            "|tailnum|origin|dest|\n",
            "+-------+------+----+\n",
            "| N846VA|   SEA| LAX|\n",
            "| N559AS|   SEA| HNL|\n",
            "| N847VA|   SEA| SFO|\n",
            "| N360SW|   PDX| SJC|\n",
            "| N612AS|   SEA| BUR|\n",
            "| N646SW|   PDX| DEN|\n",
            "| N422WN|   PDX| OAK|\n",
            "| N361VA|   SEA| SFO|\n",
            "| N309AS|   SEA| SAN|\n",
            "| N564AS|   SEA| ORD|\n",
            "| N323AS|   SEA| LAX|\n",
            "| N305AS|   SEA| PHX|\n",
            "| N433AS|   SEA| LAS|\n",
            "| N765AS|   SEA| ANC|\n",
            "| N713AS|   SEA| SFO|\n",
            "| N27205|   PDX| SFO|\n",
            "| N626AS|   SEA| SMF|\n",
            "| N8634A|   SEA| MDW|\n",
            "| N597AS|   SEA| BOS|\n",
            "| N215AG|   PDX| BUR|\n",
            "+-------+------+----+\n",
            "only showing top 20 rows\n",
            "\n"
          ]
        }
      ]
    },
    {
      "cell_type": "code",
      "source": [
        "# Selecting some columns from the main Dataframe - THIRD WAY\n",
        "selected3 = flights.select(flights.tailnum, flights.origin, flights.dest)\n",
        "selected3.show()"
      ],
      "metadata": {
        "id": "dQcFB5ryRsus",
        "colab": {
          "base_uri": "https://localhost:8080/"
        },
        "outputId": "81f48295-a325-478a-8f4f-be290a345ef3"
      },
      "execution_count": null,
      "outputs": [
        {
          "output_type": "stream",
          "name": "stdout",
          "text": [
            "+-------+------+----+\n",
            "|tailnum|origin|dest|\n",
            "+-------+------+----+\n",
            "| N846VA|   SEA| LAX|\n",
            "| N559AS|   SEA| HNL|\n",
            "| N847VA|   SEA| SFO|\n",
            "| N360SW|   PDX| SJC|\n",
            "| N612AS|   SEA| BUR|\n",
            "| N646SW|   PDX| DEN|\n",
            "| N422WN|   PDX| OAK|\n",
            "| N361VA|   SEA| SFO|\n",
            "| N309AS|   SEA| SAN|\n",
            "| N564AS|   SEA| ORD|\n",
            "| N323AS|   SEA| LAX|\n",
            "| N305AS|   SEA| PHX|\n",
            "| N433AS|   SEA| LAS|\n",
            "| N765AS|   SEA| ANC|\n",
            "| N713AS|   SEA| SFO|\n",
            "| N27205|   PDX| SFO|\n",
            "| N626AS|   SEA| SMF|\n",
            "| N8634A|   SEA| MDW|\n",
            "| N597AS|   SEA| BOS|\n",
            "| N215AG|   PDX| BUR|\n",
            "+-------+------+----+\n",
            "only showing top 20 rows\n",
            "\n"
          ]
        }
      ]
    },
    {
      "cell_type": "markdown",
      "source": [
        "## **Filtering Data**\n",
        "\n",
        "This is Spark's counterpart to the `WHERE` clause in SQL. The `.filter()` method accepts an expression that would follow the `WHERE` clause of an SQL expression as a string or a Spark column of boolean values `(True/False)`.\n",
        "\n"
      ],
      "metadata": {
        "id": "MlGbE90UEePA"
      }
    },
    {
      "cell_type": "code",
      "source": [
        "# Filtering flights that took longer than 120 minutes\n",
        "flights.filter(\"air_time > 120\").show()"
      ],
      "metadata": {
        "id": "mW8LrOboX5Kh",
        "colab": {
          "base_uri": "https://localhost:8080/"
        },
        "outputId": "ac99b8d2-f63a-405f-ac44-3fea081f7cd4"
      },
      "execution_count": null,
      "outputs": [
        {
          "output_type": "stream",
          "name": "stdout",
          "text": [
            "+----+-----+---+--------+---------+--------+---------+-------+-------+------+------+----+--------+----+------+--------+------------------+\n",
            "|year|month|day|dep_time|dep_delay|arr_time|arr_delay|carrier|tailnum|flight|origin|dest|distance|hour|minute|air_time|       airtime_hrs|\n",
            "+----+-----+---+--------+---------+--------+---------+-------+-------+------+------+----+--------+----+------+--------+------------------+\n",
            "|2014|   12|  8|     658|       -7|     935|       -5|     VX| N846VA|  1780|   SEA| LAX|     954|   6|    58|     132|               2.2|\n",
            "|2014|    1| 22|    1040|        5|    1505|        5|     AS| N559AS|   851|   SEA| HNL|    2677|  10|    40|     360|               6.0|\n",
            "|2014|    3|  9|     754|       -1|    1015|        1|     AS| N612AS|   522|   SEA| BUR|     937|   7|    54|     127|2.1166666666666667|\n",
            "|2014|    1| 15|    1037|        7|    1352|        2|     WN| N646SW|    48|   PDX| DEN|     991|  10|    37|     121|2.0166666666666666|\n",
            "|2014|    4| 19|    1236|       -4|    1508|       -7|     AS| N309AS|   490|   SEA| SAN|    1050|  12|    36|     135|              2.25|\n",
            "|2014|   11| 19|    1812|       -3|    2352|       -4|     AS| N564AS|    26|   SEA| ORD|    1721|  18|    12|     198|               3.3|\n",
            "|2014|   11|  8|    1653|       -2|    1924|       -1|     AS| N323AS|   448|   SEA| LAX|     954|  16|    53|     130|2.1666666666666665|\n",
            "|2014|    8|  3|    1120|        0|    1415|        2|     AS| N305AS|   656|   SEA| PHX|    1107|  11|    20|     154| 2.566666666666667|\n",
            "|2014|   10| 30|     811|       21|    1038|       29|     AS| N433AS|   608|   SEA| LAS|     867|   8|    11|     127|2.1166666666666667|\n",
            "|2014|   11| 12|    2346|       -4|     217|      -28|     AS| N765AS|   121|   SEA| ANC|    1448|  23|    46|     183|              3.05|\n",
            "|2014|   10| 31|    1314|       89|    1544|      111|     AS| N713AS|   306|   SEA| SFO|     679|  13|    14|     129|              2.15|\n",
            "|2014|    8| 11|    1017|       -3|    1613|       -7|     WN| N8634A|   827|   SEA| MDW|    1733|  10|    17|     216|               3.6|\n",
            "|2014|    1| 13|    2156|       -9|     607|      -15|     AS| N597AS|    24|   SEA| BOS|    2496|  21|    56|     290| 4.833333333333333|\n",
            "|2014|    9| 26|     610|       -5|    1523|       65|     US| N127UW|   616|   SEA| PHL|    2378|   6|    10|     293| 4.883333333333334|\n",
            "|2014|   12|  4|     954|       -6|    1348|      -17|     HA| N395HA|    29|   SEA| OGG|    2640|   9|    54|     333|              5.55|\n",
            "|2014|    2| 25|     555|       -5|     819|       -3|     AS| N549AS|   604|   SEA| LAS|     867|   5|    55|     121|2.0166666666666666|\n",
            "|2014|    8| 24|    1646|       21|    1901|        1|     B6| N606JB|  1007|   SEA| LGB|     965|  16|    46|     121|2.0166666666666666|\n",
            "|2014|    6|  4|    1115|        0|    1346|       -3|     AS| N461AS|   488|   SEA| SAN|    1050|  11|    15|     133| 2.216666666666667|\n",
            "|2014|    6| 26|    2054|       -1|    2318|       -6|     B6| N590JB|   907|   SEA| ANC|    1448|  20|    54|     179|2.9833333333333334|\n",
            "|2014|    6|  7|    1823|       -7|    2112|      -28|     AS| N512AS|   815|   SEA| LIH|    2701|  18|    23|     335| 5.583333333333333|\n",
            "+----+-----+---+--------+---------+--------+---------+-------+-------+------+------+----+--------+----+------+--------+------------------+\n",
            "only showing top 20 rows\n",
            "\n"
          ]
        }
      ]
    },
    {
      "cell_type": "code",
      "source": [
        "# Filtering flights that took longer than 120 minutes - show only the first 5 records\n",
        "flights.filter(flights.air_time > 120).show(5)"
      ],
      "metadata": {
        "colab": {
          "base_uri": "https://localhost:8080/"
        },
        "id": "U9MnN4UHS3jv",
        "outputId": "c8e59610-50e1-4d21-a4bd-bfada8fe8081"
      },
      "execution_count": null,
      "outputs": [
        {
          "output_type": "stream",
          "name": "stdout",
          "text": [
            "+----+-----+---+--------+---------+--------+---------+-------+-------+------+------+----+--------+----+------+--------+------------------+\n",
            "|year|month|day|dep_time|dep_delay|arr_time|arr_delay|carrier|tailnum|flight|origin|dest|distance|hour|minute|air_time|       airtime_hrs|\n",
            "+----+-----+---+--------+---------+--------+---------+-------+-------+------+------+----+--------+----+------+--------+------------------+\n",
            "|2014|   12|  8|     658|       -7|     935|       -5|     VX| N846VA|  1780|   SEA| LAX|     954|   6|    58|     132|               2.2|\n",
            "|2014|    1| 22|    1040|        5|    1505|        5|     AS| N559AS|   851|   SEA| HNL|    2677|  10|    40|     360|               6.0|\n",
            "|2014|    3|  9|     754|       -1|    1015|        1|     AS| N612AS|   522|   SEA| BUR|     937|   7|    54|     127|2.1166666666666667|\n",
            "|2014|    1| 15|    1037|        7|    1352|        2|     WN| N646SW|    48|   PDX| DEN|     991|  10|    37|     121|2.0166666666666666|\n",
            "|2014|    4| 19|    1236|       -4|    1508|       -7|     AS| N309AS|   490|   SEA| SAN|    1050|  12|    36|     135|              2.25|\n",
            "+----+-----+---+--------+---------+--------+---------+-------+-------+------+------+----+--------+----+------+--------+------------------+\n",
            "only showing top 5 rows\n",
            "\n"
          ]
        }
      ]
    },
    {
      "cell_type": "markdown",
      "source": [
        "Note that in the first case, we passed a string to `.filter()`. In SQL, we would write this filtering task as `SELECT * FROM flight WHERE air_time > 120`.\n",
        "\n",
        "Spark's `.filter() `can accept any expression that can go in the WHERE clause of an SQL query (in this case, `\"air_time > 120\"`), as long as it is passed as a string."
      ],
      "metadata": {
        "id": "exD00ZUvFICh"
      }
    },
    {
      "cell_type": "markdown",
      "source": [
        "Another way to perform data filtering\n"
      ],
      "metadata": {
        "id": "WwwHbDtFX6I0"
      }
    },
    {
      "cell_type": "code",
      "source": [
        "# Creating the first filter\n",
        "filterA = flights.origin == \"SEA\"\n",
        "\n",
        "# Creating the second filter\n",
        "filterB = flights.dest == \"PDX\"\n",
        "\n",
        "# Using the previous filters to filtering data from Dataframe, first by the filterA then for the filterB\n",
        "filtering = flights.filter(filterA).filter(filterB)"
      ],
      "metadata": {
        "id": "3brQCkxzX2M5"
      },
      "execution_count": null,
      "outputs": []
    },
    {
      "cell_type": "code",
      "source": [
        "filtering.show(5)"
      ],
      "metadata": {
        "colab": {
          "base_uri": "https://localhost:8080/"
        },
        "id": "59NQcSwhbyX1",
        "outputId": "0400aed1-988e-4c12-d286-bbd66286c798"
      },
      "execution_count": null,
      "outputs": [
        {
          "output_type": "stream",
          "name": "stdout",
          "text": [
            "+----+-----+---+--------+---------+--------+---------+-------+-------+------+------+----+--------+----+------+--------+-------------------+\n",
            "|year|month|day|dep_time|dep_delay|arr_time|arr_delay|carrier|tailnum|flight|origin|dest|distance|hour|minute|air_time|        airtime_hrs|\n",
            "+----+-----+---+--------+---------+--------+---------+-------+-------+------+------+----+--------+----+------+--------+-------------------+\n",
            "|2014|   10|  1|    1717|       -8|    1819|        4|     OO| N810SK|  4546|   SEA| PDX|     129|  17|    17|      28| 0.4666666666666667|\n",
            "|2014|    9| 26|    2339|      144|      29|      142|     OO| N822SK|  4612|   SEA| PDX|     129|  23|    39|      29|0.48333333333333334|\n",
            "|2014|    8| 18|    1728|       -2|    1822|        0|     OO| N586SW|  5440|   SEA| PDX|     129|  17|    28|      41| 0.6833333333333333|\n",
            "|2014|    2|  4|    2053|       -7|    2144|       -4|     OO| N223SW|  5433|   SEA| PDX|     129|  20|    53|      29|0.48333333333333334|\n",
            "|2014|    2|  9|    1058|      133|    1158|      145|     OO| N580SW|  5438|   SEA| PDX|     129|  10|    58|      35| 0.5833333333333334|\n",
            "+----+-----+---+--------+---------+--------+---------+-------+-------+------+------+----+--------+----+------+--------+-------------------+\n",
            "only showing top 5 rows\n",
            "\n"
          ]
        }
      ]
    },
    {
      "cell_type": "markdown",
      "source": [
        "## **Aggregating**\n",
        "\n",
        "All common aggregation methods such as `.min()`, `.max()`, and `.count()` are `GroupedData` methods. They are created by calling the `.groupBy()` method on a DataFrame. For example, to find the minimum value of a column `col` in a DataFrame `df`, you can use `df.groupBy().min(\"col\").show()`."
      ],
      "metadata": {
        "id": "AcQPaLDHFg6v"
      }
    },
    {
      "cell_type": "code",
      "source": [
        "# Find the longest flight duration from SEA to other cities\n",
        "flights.filter(flights.origin == \"SEA\").groupBy().max(\"airtime_hrs\").show()"
      ],
      "metadata": {
        "colab": {
          "base_uri": "https://localhost:8080/"
        },
        "id": "ufU3EDp8Tjrl",
        "outputId": "73e31d68-0c5f-4fcc-af94-6a9309a8e209"
      },
      "execution_count": null,
      "outputs": [
        {
          "output_type": "stream",
          "name": "stdout",
          "text": [
            "+-----------------+\n",
            "| max(airtime_hrs)|\n",
            "+-----------------+\n",
            "|6.816666666666666|\n",
            "+-----------------+\n",
            "\n"
          ]
        }
      ]
    },
    {
      "cell_type": "code",
      "source": [
        "# Find the shortest flight distance from PDX to other cities.\n",
        "flights.filter(flights.origin == \"PDX\").groupBy().min(\"distance\").show()"
      ],
      "metadata": {
        "id": "_om4doZkGc-h",
        "colab": {
          "base_uri": "https://localhost:8080/"
        },
        "outputId": "037ae2c7-05fa-4d4c-9f11-c98efd55e6f6"
      },
      "execution_count": null,
      "outputs": [
        {
          "output_type": "stream",
          "name": "stdout",
          "text": [
            "+-------------+\n",
            "|min(distance)|\n",
            "+-------------+\n",
            "|          106|\n",
            "+-------------+\n",
            "\n"
          ]
        }
      ]
    },
    {
      "cell_type": "markdown",
      "source": [
        "- Use o método `.avg()` para obter o tempo médio de voo dos voos da Delta Airlines (onde a coluna `transportadora` tem o valor `\"DL\"`) que saíram da SEA. O local de partida é armazenado na coluna `origem`. `show()` o resultado.\n",
        "- Use o método `.sum()` para obter o número total de horas que todos os aviões neste conjunto de dados passaram no ar criando uma coluna chamada `duration_hrs` a partir da coluna `air_time`. `show()` o resultado."
      ],
      "metadata": {
        "id": "K7PG7vvYGeaS"
      }
    },
    {
      "cell_type": "code",
      "source": [
        "# Use the .avg() method to obtain the average flight time of Delta Airlines flights that departed from SEA.\n",
        "flights.filter(flights.carrier == \"DL\").filter(flights.origin == \"SEA\").groupBy().avg(\"air_time\").show()"
      ],
      "metadata": {
        "id": "6I-eCUiuGkwc",
        "colab": {
          "base_uri": "https://localhost:8080/"
        },
        "outputId": "e6c1fd02-c3a7-4fb9-cbd3-c80dcc226763"
      },
      "execution_count": null,
      "outputs": [
        {
          "output_type": "stream",
          "name": "stdout",
          "text": [
            "+------------------+\n",
            "|     avg(air_time)|\n",
            "+------------------+\n",
            "|188.20689655172413|\n",
            "+------------------+\n",
            "\n"
          ]
        }
      ]
    },
    {
      "cell_type": "code",
      "source": [
        "# Use the .sum() method to calculate the total number of hours all airplanes in this dataset spent in the air by creating a column called duration_hrs from the air_time column.\n",
        "flights.withColumn(\"duration_hrs\", flights.air_time/60).groupBy().sum(\"duration_hrs\").show()"
      ],
      "metadata": {
        "colab": {
          "base_uri": "https://localhost:8080/"
        },
        "id": "lnhz5AzwUkT9",
        "outputId": "c47c7163-027a-4be6-8ac3-a3086922bc70"
      },
      "execution_count": null,
      "outputs": [
        {
          "output_type": "stream",
          "name": "stdout",
          "text": [
            "+------------------+\n",
            "| sum(duration_hrs)|\n",
            "+------------------+\n",
            "|25289.600000000126|\n",
            "+------------------+\n",
            "\n"
          ]
        }
      ]
    },
    {
      "cell_type": "markdown",
      "source": [
        "There is also the `.agg()` method. This method allows you to pass an aggregated column expression that uses any of the aggregate functions from the `pyspark.sql.functions` submodule.\n",
        "\n",
        "This submodule contains many useful functions for calculating things like standard deviation. All the aggregation functions in this submodule use the name of a column in a `GroupedData` table.\n",
        "\n",
        "Let`s Practice:\n",
        "\n",
        "*   Import the `pyspark.sql.functions` submodule as F.\n",
        "*   Find the standard deviation of `dep_delay` using the `.agg()` method with the `F.stddev()` function."
      ],
      "metadata": {
        "id": "4wBVovrFGuG_"
      }
    },
    {
      "cell_type": "code",
      "source": [
        "# Import pyspark.sql.functions as F\n",
        "import pyspark.sql.functions as F\n",
        "\n",
        "# GroupBy por month and dest\n",
        "by_month_dest = flights.groupBy(\"month\", \"dest\")"
      ],
      "metadata": {
        "id": "gLgXjWdYGuqE"
      },
      "execution_count": null,
      "outputs": []
    },
    {
      "cell_type": "code",
      "source": [
        "# Get Standard deviation\n",
        "by_month_dest.agg(F.stddev(\"dep_delay\")).show()"
      ],
      "metadata": {
        "colab": {
          "base_uri": "https://localhost:8080/"
        },
        "id": "9QBdtE8LVUHB",
        "outputId": "c0cd7c2e-fe3d-4adc-e698-bd7af1c26150"
      },
      "execution_count": null,
      "outputs": [
        {
          "output_type": "stream",
          "name": "stdout",
          "text": [
            "+-----+----+----------------------+\n",
            "|month|dest|stddev_samp(dep_delay)|\n",
            "+-----+----+----------------------+\n",
            "|    4| PHX|    15.003380033491737|\n",
            "|    1| RDM|     8.830749846821778|\n",
            "|    5| ONT|    18.895178691342874|\n",
            "|    7| OMA|    2.1213203435596424|\n",
            "|    8| MDW|    14.467659032985843|\n",
            "|    6| DEN|    13.536905534420026|\n",
            "|    5| IAD|    3.8078865529319543|\n",
            "|   12| COS|    1.4142135623730951|\n",
            "|   11| ANC|    18.604716401245316|\n",
            "|    5| AUS|     4.031128874149275|\n",
            "|    5| COS|     33.38163167571851|\n",
            "|    2| PSP|     4.878524367060187|\n",
            "|    4| ORD|    11.593882803741764|\n",
            "|   10| DFW|     45.53019017606675|\n",
            "|   10| DCA|    0.7071067811865476|\n",
            "|    8| JNU|     40.79368823727514|\n",
            "|   11| KOA|    1.8708286933869707|\n",
            "|   10| OMA|    5.8594652770823155|\n",
            "|    6| ONT|     25.98316762829351|\n",
            "|    3| MSP|    21.556779370817555|\n",
            "+-----+----+----------------------+\n",
            "only showing top 20 rows\n",
            "\n"
          ]
        }
      ]
    },
    {
      "cell_type": "markdown",
      "source": [
        "## **Joining**\n",
        "\n",
        "A join combines two different tables based on a column they share, called the key. Examples of keys here include the tailnum and carrier columns from the flights table.\n",
        "\n",
        "By joining the flights table with this airplane information table, you are adding all the columns from the planes table to the flights table. To fill in these columns with information, you will look up the tail number from the flights table and find the corresponding number in the planes table and then use that row to fill in all the new columns.\n",
        "\n",
        "In PySpark, joins are performed using the DataFrame method `.join()`. This method takes three arguments.\n",
        "\n",
        "*    The first is the second DataFrame that you want to join with the first one.\n",
        "*    The second argument, on, is the name of the key columns as a string. The key column name(s) must be the same in each table.\n",
        "*    The third argument, how, specifies the type of join to perform.\n",
        "\n",
        "Lets Pratice:\n",
        "*    Join flights with the airports DataFrame on the dest column by calling the `.join()` method on flights. Save the result as `flights_with_airports`.\n"
      ],
      "metadata": {
        "id": "eZ9y0afAGw45"
      }
    },
    {
      "cell_type": "code",
      "source": [
        "# Check both dataframes\n",
        "airports.show()"
      ],
      "metadata": {
        "colab": {
          "base_uri": "https://localhost:8080/"
        },
        "id": "rdUddXBFVaQs",
        "outputId": "1672c1fd-415a-4987-af35-7a0498d3ef06"
      },
      "execution_count": 118,
      "outputs": [
        {
          "output_type": "stream",
          "name": "stdout",
          "text": [
            "+---+--------------------+----------------+-----------------+----+---+---+\n",
            "|faa|                name|             lat|              lon| alt| tz|dst|\n",
            "+---+--------------------+----------------+-----------------+----+---+---+\n",
            "|04G|   Lansdowne Airport|      41.1304722|      -80.6195833|1044| -5|  A|\n",
            "|06A|Moton Field Munic...|      32.4605722|      -85.6800278| 264| -5|  A|\n",
            "|06C| Schaumburg Regional|      41.9893408|      -88.1012428| 801| -6|  A|\n",
            "|06N|     Randall Airport|       41.431912|      -74.3915611| 523| -5|  A|\n",
            "|09J|Jekyll Island Air...|      31.0744722|      -81.4277778|  11| -4|  A|\n",
            "|0A9|Elizabethton Muni...|      36.3712222|      -82.1734167|1593| -4|  A|\n",
            "|0G6|Williams County A...|      41.4673056|      -84.5067778| 730| -5|  A|\n",
            "|0G7|Finger Lakes Regi...|      42.8835647|      -76.7812318| 492| -5|  A|\n",
            "|0P2|Shoestring Aviati...|      39.7948244|      -76.6471914|1000| -5|  U|\n",
            "|0S9|Jefferson County ...|      48.0538086|     -122.8106436| 108| -8|  A|\n",
            "|0W3|Harford County Ai...|      39.5668378|      -76.2024028| 409| -5|  A|\n",
            "|10C|  Galt Field Airport|      42.4028889|      -88.3751111| 875| -6|  U|\n",
            "|17G|Port Bucyrus-Craw...|      40.7815556|      -82.9748056|1003| -5|  A|\n",
            "|19A|Jackson County Ai...|      34.1758638|      -83.5615972| 951| -4|  U|\n",
            "|1A3|Martin Campbell F...|      35.0158056|      -84.3468333|1789| -4|  A|\n",
            "|1B9| Mansfield Municipal|      42.0001331|      -71.1967714| 122| -5|  A|\n",
            "|1C9|Frazier Lake Airpark|54.0133333333333|-124.768333333333| 152| -8|  A|\n",
            "|1CS|Clow Internationa...|      41.6959744|      -88.1292306| 670| -6|  U|\n",
            "|1G3|  Kent State Airport|      41.1513889|      -81.4151111|1134| -4|  A|\n",
            "|1OH|     Fortman Airport|      40.5553253|      -84.3866186| 885| -5|  U|\n",
            "+---+--------------------+----------------+-----------------+----+---+---+\n",
            "only showing top 20 rows\n",
            "\n"
          ]
        }
      ]
    },
    {
      "cell_type": "code",
      "source": [
        "flights.show(20)"
      ],
      "metadata": {
        "colab": {
          "base_uri": "https://localhost:8080/"
        },
        "id": "RSBUffI-kEx7",
        "outputId": "cac1eca4-e1f6-4acd-9fa9-0b46da25f3bf"
      },
      "execution_count": 119,
      "outputs": [
        {
          "output_type": "stream",
          "name": "stdout",
          "text": [
            "+----+-----+---+--------+---------+--------+---------+-------+-------+------+------+----+--------+----+------+--------+------------------+\n",
            "|year|month|day|dep_time|dep_delay|arr_time|arr_delay|carrier|tailnum|flight|origin|dest|distance|hour|minute|air_time|       airtime_hrs|\n",
            "+----+-----+---+--------+---------+--------+---------+-------+-------+------+------+----+--------+----+------+--------+------------------+\n",
            "|2014|   12|  8|     658|       -7|     935|       -5|     VX| N846VA|  1780|   SEA| LAX|     954|   6|    58|     132|               2.2|\n",
            "|2014|    1| 22|    1040|        5|    1505|        5|     AS| N559AS|   851|   SEA| HNL|    2677|  10|    40|     360|               6.0|\n",
            "|2014|    3|  9|    1443|       -2|    1652|        2|     VX| N847VA|   755|   SEA| SFO|     679|  14|    43|     111|              1.85|\n",
            "|2014|    4|  9|    1705|       45|    1839|       34|     WN| N360SW|   344|   PDX| SJC|     569|  17|     5|      83|1.3833333333333333|\n",
            "|2014|    3|  9|     754|       -1|    1015|        1|     AS| N612AS|   522|   SEA| BUR|     937|   7|    54|     127|2.1166666666666667|\n",
            "|2014|    1| 15|    1037|        7|    1352|        2|     WN| N646SW|    48|   PDX| DEN|     991|  10|    37|     121|2.0166666666666666|\n",
            "|2014|    7|  2|     847|       42|    1041|       51|     WN| N422WN|  1520|   PDX| OAK|     543|   8|    47|      90|               1.5|\n",
            "|2014|    5| 12|    1655|       -5|    1842|      -18|     VX| N361VA|   755|   SEA| SFO|     679|  16|    55|      98|1.6333333333333333|\n",
            "|2014|    4| 19|    1236|       -4|    1508|       -7|     AS| N309AS|   490|   SEA| SAN|    1050|  12|    36|     135|              2.25|\n",
            "|2014|   11| 19|    1812|       -3|    2352|       -4|     AS| N564AS|    26|   SEA| ORD|    1721|  18|    12|     198|               3.3|\n",
            "|2014|   11|  8|    1653|       -2|    1924|       -1|     AS| N323AS|   448|   SEA| LAX|     954|  16|    53|     130|2.1666666666666665|\n",
            "|2014|    8|  3|    1120|        0|    1415|        2|     AS| N305AS|   656|   SEA| PHX|    1107|  11|    20|     154| 2.566666666666667|\n",
            "|2014|   10| 30|     811|       21|    1038|       29|     AS| N433AS|   608|   SEA| LAS|     867|   8|    11|     127|2.1166666666666667|\n",
            "|2014|   11| 12|    2346|       -4|     217|      -28|     AS| N765AS|   121|   SEA| ANC|    1448|  23|    46|     183|              3.05|\n",
            "|2014|   10| 31|    1314|       89|    1544|      111|     AS| N713AS|   306|   SEA| SFO|     679|  13|    14|     129|              2.15|\n",
            "|2014|    1| 29|    2009|        3|    2159|        9|     UA| N27205|  1458|   PDX| SFO|     550|  20|     9|      90|               1.5|\n",
            "|2014|   12| 17|    2015|       50|    2150|       41|     AS| N626AS|   368|   SEA| SMF|     605|  20|    15|      76|1.2666666666666666|\n",
            "|2014|    8| 11|    1017|       -3|    1613|       -7|     WN| N8634A|   827|   SEA| MDW|    1733|  10|    17|     216|               3.6|\n",
            "|2014|    1| 13|    2156|       -9|     607|      -15|     AS| N597AS|    24|   SEA| BOS|    2496|  21|    56|     290| 4.833333333333333|\n",
            "|2014|    6|  5|    1733|      -12|    1945|      -10|     OO| N215AG|  3488|   PDX| BUR|     817|  17|    33|     111|              1.85|\n",
            "+----+-----+---+--------+---------+--------+---------+-------+-------+------+------+----+--------+----+------+--------+------------------+\n",
            "only showing top 20 rows\n",
            "\n"
          ]
        }
      ]
    },
    {
      "cell_type": "code",
      "source": [
        "# Rename column faa to dest\n",
        "airports = airports.withColumnRenamed(\"faa\", \"dest\")"
      ],
      "metadata": {
        "id": "5YqcYiIbGydX"
      },
      "execution_count": 120,
      "outputs": []
    },
    {
      "cell_type": "code",
      "source": [
        "# Join DataFrames\n",
        "flights_with_airports = flights.join(airports, on=\"dest\", how=\"leftouter\")"
      ],
      "metadata": {
        "id": "4g0rrfW0Vxk9"
      },
      "execution_count": 121,
      "outputs": []
    },
    {
      "cell_type": "code",
      "source": [
        "# Check new dataframes\n",
        "flights_with_airports.show()"
      ],
      "metadata": {
        "colab": {
          "base_uri": "https://localhost:8080/"
        },
        "id": "ZfqnDKsCVvc_",
        "outputId": "b769b048-1afe-472b-9736-ab4c955cf023"
      },
      "execution_count": 122,
      "outputs": [
        {
          "output_type": "stream",
          "name": "stdout",
          "text": [
            "+----+----+-----+---+--------+---------+--------+---------+-------+-------+------+------+--------+----+------+--------+------------------+--------------------+---------+-----------+----+---+---+\n",
            "|dest|year|month|day|dep_time|dep_delay|arr_time|arr_delay|carrier|tailnum|flight|origin|distance|hour|minute|air_time|       airtime_hrs|                name|      lat|        lon| alt| tz|dst|\n",
            "+----+----+-----+---+--------+---------+--------+---------+-------+-------+------+------+--------+----+------+--------+------------------+--------------------+---------+-----------+----+---+---+\n",
            "| MSY|2014|    8| 16|    1014|       -1|    1644|      -16|     AS| N549AS|   788|   SEA|    2086|  10|    14|     248| 4.133333333333334|Louis Armstrong N...|29.993389| -90.258028|   4| -6|  A|\n",
            "| MSY|2014|   10| 29|    1009|       -6|    1613|      -47|     AS| N532AS|   788|   SEA|    2086|  10|     9|     224|3.7333333333333334|Louis Armstrong N...|29.993389| -90.258028|   4| -6|  A|\n",
            "| MSY|2014|    8| 18|    1028|       13|    1647|      -13|     AS| N315AS|   788|   SEA|    2086|  10|    28|     240|               4.0|Louis Armstrong N...|29.993389| -90.258028|   4| -6|  A|\n",
            "| MSY|2014|    9| 30|    1021|        6|    1638|      -22|     AS| N419AS|   788|   SEA|    2086|  10|    21|     239|3.9833333333333334|Louis Armstrong N...|29.993389| -90.258028|   4| -6|  A|\n",
            "| MSY|2014|    9| 28|    1023|        8|    1721|       21|     AS| N527AS|   788|   SEA|    2086|  10|    23|     258|               4.3|Louis Armstrong N...|29.993389| -90.258028|   4| -6|  A|\n",
            "| MSY|2014|   10| 15|    1016|        1|    1647|      -13|     AS| N524AS|   788|   SEA|    2086|  10|    16|     249|              4.15|Louis Armstrong N...|29.993389| -90.258028|   4| -6|  A|\n",
            "| MSY|2014|   12| 28|    1052|       12|    1715|      -15|     AS| N523AS|   788|   SEA|    2086|  10|    52|     244| 4.066666666666666|Louis Armstrong N...|29.993389| -90.258028|   4| -6|  A|\n",
            "| MSY|2014|    6| 30|    1014|       -1|    1622|      -38|     AS| N556AS|   788|   SEA|    2086|  10|    14|     236| 3.933333333333333|Louis Armstrong N...|29.993389| -90.258028|   4| -6|  A|\n",
            "| MSY|2014|    9|  3|    1015|        0|    1636|      -24|     AS| N557AS|   788|   SEA|    2086|  10|    15|     243|              4.05|Louis Armstrong N...|29.993389| -90.258028|   4| -6|  A|\n",
            "| GEG|2014|    7| 13|    2125|       -5|    2216|       -8|     AS| N315AS|   694|   SEA|     224|  21|    25|      37|0.6166666666666667|        Spokane Intl|47.619861|-117.533833|2376| -8|  A|\n",
            "| GEG|2014|    2| 14|    2002|        2|    2056|        1|     AS| N788AS|   694|   SEA|     224|  20|     2|      38|0.6333333333333333|        Spokane Intl|47.619861|-117.533833|2376| -8|  A|\n",
            "| GEG|2014|    2|  5|    2249|      -11|    2338|      -19|     AS| N644AS|   698|   SEA|     224|  22|    49|      36|               0.6|        Spokane Intl|47.619861|-117.533833|2376| -8|  A|\n",
            "| GEG|2014|   11| 25|    1226|        6|    1325|        8|     AS| N318AS|   684|   SEA|     224|  12|    26|      32|0.5333333333333333|        Spokane Intl|47.619861|-117.533833|2376| -8|  A|\n",
            "| GEG|2014|    3|  2|    1316|       71|    1414|       74|     AS| N516AS|   674|   SEA|     224|  13|    16|      37|0.6166666666666667|        Spokane Intl|47.619861|-117.533833|2376| -8|  A|\n",
            "| GEG|2014|    4|  6|    1240|       50|    1331|       48|     AS| N795AS|   684|   SEA|     224|  12|    40|      35|0.5833333333333334|        Spokane Intl|47.619861|-117.533833|2376| -8|  A|\n",
            "| GEG|2014|    8| 12|    1032|        7|    1142|       19|     AS| N794AS|   414|   SEA|     224|  10|    32|      37|0.6166666666666667|        Spokane Intl|47.619861|-117.533833|2376| -8|  A|\n",
            "| GEG|2014|   11|  9|    1605|        5|    1705|        7|     AS| N706AS|   696|   SEA|     224|  16|     5|      36|               0.6|        Spokane Intl|47.619861|-117.533833|2376| -8|  A|\n",
            "| GEG|2014|    3| 26|    1149|       -1|    1248|        5|     AS| N644AS|   684|   SEA|     224|  11|    49|      42|               0.7|        Spokane Intl|47.619861|-117.533833|2376| -8|  A|\n",
            "| GEG|2014|    8| 12|     753|       -7|     853|       -5|     AS| N792AS|   690|   SEA|     224|   7|    53|      38|0.6333333333333333|        Spokane Intl|47.619861|-117.533833|2376| -8|  A|\n",
            "| GEG|2014|    8|  7|    1558|       -2|    1657|        1|     AS| N794AS|   688|   SEA|     224|  15|    58|      36|               0.6|        Spokane Intl|47.619861|-117.533833|2376| -8|  A|\n",
            "+----+----+-----+---+--------+---------+--------+---------+-------+-------+------+------+--------+----+------+--------+------------------+--------------------+---------+-----------+----+---+---+\n",
            "only showing top 20 rows\n",
            "\n"
          ]
        }
      ]
    },
    {
      "cell_type": "markdown",
      "source": [
        "As an addition I will join with planes table."
      ],
      "metadata": {
        "id": "_-1gRQEAsXmW"
      }
    },
    {
      "cell_type": "code",
      "source": [
        "arquivo = \"/data/planes.csv\"\n",
        "planes = spark\\\n",
        "        .read.format(\"csv\")\\\n",
        "        .option(\"inferSchema\", \"True\")\\\n",
        "        .option(\"header\", \"True\")\\\n",
        "        .csv(arquivo)"
      ],
      "metadata": {
        "id": "2bAvf_yZtg9D"
      },
      "execution_count": 123,
      "outputs": []
    },
    {
      "cell_type": "code",
      "source": [
        "planes.show()"
      ],
      "metadata": {
        "colab": {
          "base_uri": "https://localhost:8080/"
        },
        "id": "bB0TtjaytnTU",
        "outputId": "af666531-67e8-4ca8-da9c-abed6b82ad59"
      },
      "execution_count": 124,
      "outputs": [
        {
          "output_type": "stream",
          "name": "stdout",
          "text": [
            "+-------+----+--------------------+----------------+--------+-------+-----+-----+---------+\n",
            "|tailnum|year|                type|    manufacturer|   model|engines|seats|speed|   engine|\n",
            "+-------+----+--------------------+----------------+--------+-------+-----+-----+---------+\n",
            "| N102UW|1998|Fixed wing multi ...|AIRBUS INDUSTRIE|A320-214|      2|  182|   NA|Turbo-fan|\n",
            "| N103US|1999|Fixed wing multi ...|AIRBUS INDUSTRIE|A320-214|      2|  182|   NA|Turbo-fan|\n",
            "| N104UW|1999|Fixed wing multi ...|AIRBUS INDUSTRIE|A320-214|      2|  182|   NA|Turbo-fan|\n",
            "| N105UW|1999|Fixed wing multi ...|AIRBUS INDUSTRIE|A320-214|      2|  182|   NA|Turbo-fan|\n",
            "| N107US|1999|Fixed wing multi ...|AIRBUS INDUSTRIE|A320-214|      2|  182|   NA|Turbo-fan|\n",
            "| N108UW|1999|Fixed wing multi ...|AIRBUS INDUSTRIE|A320-214|      2|  182|   NA|Turbo-fan|\n",
            "| N109UW|1999|Fixed wing multi ...|AIRBUS INDUSTRIE|A320-214|      2|  182|   NA|Turbo-fan|\n",
            "| N110UW|1999|Fixed wing multi ...|AIRBUS INDUSTRIE|A320-214|      2|  182|   NA|Turbo-fan|\n",
            "| N111US|1999|Fixed wing multi ...|AIRBUS INDUSTRIE|A320-214|      2|  182|   NA|Turbo-fan|\n",
            "| N11206|2000|Fixed wing multi ...|          BOEING| 737-824|      2|  149|   NA|Turbo-fan|\n",
            "| N112US|1999|Fixed wing multi ...|AIRBUS INDUSTRIE|A320-214|      2|  182|   NA|Turbo-fan|\n",
            "| N113UW|1999|Fixed wing multi ...|AIRBUS INDUSTRIE|A320-214|      2|  182|   NA|Turbo-fan|\n",
            "| N114UW|1999|Fixed wing multi ...|AIRBUS INDUSTRIE|A320-214|      2|  182|   NA|Turbo-fan|\n",
            "| N117UW|2000|Fixed wing multi ...|AIRBUS INDUSTRIE|A320-214|      2|  182|   NA|Turbo-fan|\n",
            "| N118US|2000|Fixed wing multi ...|AIRBUS INDUSTRIE|A320-214|      2|  182|   NA|Turbo-fan|\n",
            "| N119US|2000|Fixed wing multi ...|AIRBUS INDUSTRIE|A320-214|      2|  182|   NA|Turbo-fan|\n",
            "| N1200K|1998|Fixed wing multi ...|          BOEING| 767-332|      2|  330|   NA|Turbo-fan|\n",
            "| N1201P|1998|Fixed wing multi ...|          BOEING| 767-332|      2|  330|   NA|Turbo-fan|\n",
            "| N12114|1995|Fixed wing multi ...|          BOEING| 757-224|      2|  178|   NA|Turbo-jet|\n",
            "| N121DE|1987|Fixed wing multi ...|          BOEING| 767-332|      2|  330|   NA|Turbo-fan|\n",
            "+-------+----+--------------------+----------------+--------+-------+-----+-----+---------+\n",
            "only showing top 20 rows\n",
            "\n"
          ]
        }
      ]
    },
    {
      "cell_type": "code",
      "source": [
        "# The tailnum is the key column\n",
        "# Let's create another table which will get all data\n",
        "flights_airports_planes = flights_with_airports.join(planes, on=\"tailnum\", how=\"leftouter\")"
      ],
      "metadata": {
        "id": "7iWT4Ej5txOY"
      },
      "execution_count": 125,
      "outputs": []
    },
    {
      "cell_type": "code",
      "source": [
        "flights_airports_planes.show()"
      ],
      "metadata": {
        "colab": {
          "base_uri": "https://localhost:8080/"
        },
        "id": "TwlkMQmTuNku",
        "outputId": "54bf2f91-1f76-4c6b-dcf8-cfa4c8e24978"
      },
      "execution_count": 126,
      "outputs": [
        {
          "output_type": "stream",
          "name": "stdout",
          "text": [
            "+-------+----+----+-----+---+--------+---------+--------+---------+-------+------+------+--------+----+------+--------+------------------+--------------------+---------+-----------+----+---+---+----+--------------------+------------+---------+-------+-----+-----+---------+\n",
            "|tailnum|dest|year|month|day|dep_time|dep_delay|arr_time|arr_delay|carrier|flight|origin|distance|hour|minute|air_time|       airtime_hrs|                name|      lat|        lon| alt| tz|dst|year|                type|manufacturer|    model|engines|seats|speed|   engine|\n",
            "+-------+----+----+-----+---+--------+---------+--------+---------+-------+------+------+--------+----+------+--------+------------------+--------------------+---------+-----------+----+---+---+----+--------------------+------------+---------+-------+-----+-----+---------+\n",
            "| N549AS| MSY|2014|    8| 16|    1014|       -1|    1644|      -16|     AS|   788|   SEA|    2086|  10|    14|     248| 4.133333333333334|Louis Armstrong N...|29.993389| -90.258028|   4| -6|  A|2005|Fixed wing multi ...|      BOEING|  737-8FH|      2|  149|   NA|Turbo-fan|\n",
            "| N532AS| MSY|2014|   10| 29|    1009|       -6|    1613|      -47|     AS|   788|   SEA|    2086|  10|     9|     224|3.7333333333333334|Louis Armstrong N...|29.993389| -90.258028|   4| -6|  A|2010|Fixed wing multi ...|      BOEING|  737-890|      2|  149|   NA|Turbo-fan|\n",
            "| N315AS| MSY|2014|    8| 18|    1028|       13|    1647|      -13|     AS|   788|   SEA|    2086|  10|    28|     240|               4.0|Louis Armstrong N...|29.993389| -90.258028|   4| -6|  A|2002|Fixed wing multi ...|      BOEING|  737-990|      2|  149|   NA|Turbo-jet|\n",
            "| N419AS| MSY|2014|    9| 30|    1021|        6|    1638|      -22|     AS|   788|   SEA|    2086|  10|    21|     239|3.9833333333333334|Louis Armstrong N...|29.993389| -90.258028|   4| -6|  A|2013|Fixed wing multi ...|      BOEING|737-990ER|      2|  222|   NA|Turbo-fan|\n",
            "| N527AS| MSY|2014|    9| 28|    1023|        8|    1721|       21|     AS|   788|   SEA|    2086|  10|    23|     258|               4.3|Louis Armstrong N...|29.993389| -90.258028|   4| -6|  A|  NA|Fixed wing multi ...|      BOEING|  737-890|      2|  149|   NA|Turbo-fan|\n",
            "| N524AS| MSY|2014|   10| 15|    1016|        1|    1647|      -13|     AS|   788|   SEA|    2086|  10|    16|     249|              4.15|Louis Armstrong N...|29.993389| -90.258028|   4| -6|  A|2009|Fixed wing multi ...|      BOEING|  737-890|      2|  149|   NA|Turbo-fan|\n",
            "| N523AS| MSY|2014|   12| 28|    1052|       12|    1715|      -15|     AS|   788|   SEA|    2086|  10|    52|     244| 4.066666666666666|Louis Armstrong N...|29.993389| -90.258028|   4| -6|  A|2009|Fixed wing multi ...|      BOEING|  737-890|      2|  149|   NA|Turbo-fan|\n",
            "| N556AS| MSY|2014|    6| 30|    1014|       -1|    1622|      -38|     AS|   788|   SEA|    2086|  10|    14|     236| 3.933333333333333|Louis Armstrong N...|29.993389| -90.258028|   4| -6|  A|2006|Fixed wing multi ...|      BOEING|  737-890|      2|  149|   NA|Turbo-fan|\n",
            "| N557AS| MSY|2014|    9|  3|    1015|        0|    1636|      -24|     AS|   788|   SEA|    2086|  10|    15|     243|              4.05|Louis Armstrong N...|29.993389| -90.258028|   4| -6|  A|2006|Fixed wing multi ...|      BOEING|  737-890|      2|  149|   NA|Turbo-fan|\n",
            "| N315AS| GEG|2014|    7| 13|    2125|       -5|    2216|       -8|     AS|   694|   SEA|     224|  21|    25|      37|0.6166666666666667|        Spokane Intl|47.619861|-117.533833|2376| -8|  A|2002|Fixed wing multi ...|      BOEING|  737-990|      2|  149|   NA|Turbo-jet|\n",
            "| N788AS| GEG|2014|    2| 14|    2002|        2|    2056|        1|     AS|   694|   SEA|     224|  20|     2|      38|0.6333333333333333|        Spokane Intl|47.619861|-117.533833|2376| -8|  A|1997|Fixed wing multi ...|      BOEING|  737-490|      2|  149|   NA|Turbo-jet|\n",
            "| N644AS| GEG|2014|    2|  5|    2249|      -11|    2338|      -19|     AS|   698|   SEA|     224|  22|    49|      36|               0.6|        Spokane Intl|47.619861|-117.533833|2376| -8|  A|2003|Fixed wing multi ...|      BOEING|  737-790|      2|  151|   NA|Turbo-jet|\n",
            "| N318AS| GEG|2014|   11| 25|    1226|        6|    1325|        8|     AS|   684|   SEA|     224|  12|    26|      32|0.5333333333333333|        Spokane Intl|47.619861|-117.533833|2376| -8|  A|2003|Fixed wing multi ...|      BOEING|  737-990|      2|  149|   NA|Turbo-jet|\n",
            "| N516AS| GEG|2014|    3|  2|    1316|       71|    1414|       74|     AS|   674|   SEA|     224|  13|    16|      37|0.6166666666666667|        Spokane Intl|47.619861|-117.533833|2376| -8|  A|2008|Fixed wing multi ...|      BOEING|  737-890|      2|  149|   NA|Turbo-fan|\n",
            "| N795AS| GEG|2014|    4|  6|    1240|       50|    1331|       48|     AS|   684|   SEA|     224|  12|    40|      35|0.5833333333333334|        Spokane Intl|47.619861|-117.533833|2376| -8|  A|1998|Fixed wing multi ...|      BOEING|  737-490|      2|  149|   NA|Turbo-jet|\n",
            "| N794AS| GEG|2014|    8| 12|    1032|        7|    1142|       19|     AS|   414|   SEA|     224|  10|    32|      37|0.6166666666666667|        Spokane Intl|47.619861|-117.533833|2376| -8|  A|1998|Fixed wing multi ...|      BOEING|  737-490|      2|  149|   NA|Turbo-jet|\n",
            "| N706AS| GEG|2014|   11|  9|    1605|        5|    1705|        7|     AS|   696|   SEA|     224|  16|     5|      36|               0.6|        Spokane Intl|47.619861|-117.533833|2376| -8|  A|1998|Fixed wing multi ...|      BOEING|  737-490|      2|  149|   NA|Turbo-jet|\n",
            "| N644AS| GEG|2014|    3| 26|    1149|       -1|    1248|        5|     AS|   684|   SEA|     224|  11|    49|      42|               0.7|        Spokane Intl|47.619861|-117.533833|2376| -8|  A|2003|Fixed wing multi ...|      BOEING|  737-790|      2|  151|   NA|Turbo-jet|\n",
            "| N792AS| GEG|2014|    8| 12|     753|       -7|     853|       -5|     AS|   690|   SEA|     224|   7|    53|      38|0.6333333333333333|        Spokane Intl|47.619861|-117.533833|2376| -8|  A|1997|Fixed wing multi ...|      BOEING|  737-490|      2|  149|   NA|Turbo-jet|\n",
            "| N794AS| GEG|2014|    8|  7|    1558|       -2|    1657|        1|     AS|   688|   SEA|     224|  15|    58|      36|               0.6|        Spokane Intl|47.619861|-117.533833|2376| -8|  A|1998|Fixed wing multi ...|      BOEING|  737-490|      2|  149|   NA|Turbo-jet|\n",
            "+-------+----+----+-----+---+--------+---------+--------+---------+-------+------+------+--------+----+------+--------+------------------+--------------------+---------+-----------+----+---+---+----+--------------------+------------+---------+-------+-----+-----+---------+\n",
            "only showing top 20 rows\n",
            "\n"
          ]
        }
      ]
    }
  ]
}